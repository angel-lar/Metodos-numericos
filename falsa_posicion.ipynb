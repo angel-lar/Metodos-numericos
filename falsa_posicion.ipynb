{
  "nbformat": 4,
  "nbformat_minor": 0,
  "metadata": {
    "colab": {
      "provenance": [],
      "authorship_tag": "ABX9TyNKjWghcmTwQpt6/imSreqC",
      "include_colab_link": true
    },
    "kernelspec": {
      "name": "python3",
      "display_name": "Python 3"
    },
    "language_info": {
      "name": "python"
    }
  },
  "cells": [
    {
      "cell_type": "markdown",
      "metadata": {
        "id": "view-in-github",
        "colab_type": "text"
      },
      "source": [
        "<a href=\"https://colab.research.google.com/github/angel-lar/Metodos-numericos/blob/main/falsa_posicion.ipynb\" target=\"_parent\"><img src=\"https://colab.research.google.com/assets/colab-badge.svg\" alt=\"Open In Colab\"/></a>"
      ]
    },
    {
      "cell_type": "markdown",
      "source": [
        "Metodo de la falsa posición"
      ],
      "metadata": {
        "id": "k3yfpNOfYIkU"
      }
    },
    {
      "cell_type": "markdown",
      "source": [
        "importamos las librerias"
      ],
      "metadata": {
        "id": "MqpdoOvGYRq2"
      }
    },
    {
      "cell_type": "code",
      "source": [
        "import numpy as np\n",
        "from tabulate import tabulate"
      ],
      "metadata": {
        "id": "bnLBu_pjXwX1"
      },
      "execution_count": 16,
      "outputs": []
    },
    {
      "cell_type": "markdown",
      "source": [
        "creamos la funcion que hará todo el algoritmo"
      ],
      "metadata": {
        "id": "GjM_4J08YV_T"
      }
    },
    {
      "cell_type": "code",
      "source": [
        "def falsaPosicion(f, a, b, tol, N0):\n",
        "    '''f: funcion a evaluar. a,b aproximaciones. tol: tolerancia o error y N0\n",
        "    el numero maximo de iteraciones si el error no mejora'''\n",
        "    q0 = f(a)\n",
        "    q1 = f(b)\n",
        "\n",
        "    tabla = []  # Lista para almacenar los resultados\n",
        "    p = a  # Inicializar p\n",
        "    f_p_old = None  # Para almacenar el valor anterior de f(p)\n",
        "\n",
        "    for i in range(N0):\n",
        "        p = a + (b - a) * (-q0 / (q1 - q0))\n",
        "        # Cálculo del nuevo punto p con la formula que viene en el libr\n",
        "        q = f(p)\n",
        "        error = abs(q - f_p_old) if f_p_old is not None else '-'\n",
        "        #el error será la distancia. es decir, el valor absoluto\n",
        "        #lo agregamos a la lista\n",
        "        tabla.append((i, a, b, p, q, error))\n",
        "\n",
        "        if abs(q) < tol:  #si el error aun es menor que de otra iteración\n",
        "            break\n",
        "\n",
        "        f_p_old = q  # Actualizar el valor de f(p) anterior\n",
        "\n",
        "        if q * q0 < 0:\n",
        "            b, q1 = p, q\n",
        "        else:\n",
        "            a, q0 = p, q\n",
        "\n",
        "    print(tabulate(tabla, headers=[\"Iteración\", \"a\", \"b\", \"p\", \"f(p)\", \"Error\"], tablefmt=\"grid\"))\n",
        "    #y al final imprimir la tabla\n"
      ],
      "metadata": {
        "id": "JbeCNuaZXzX3"
      },
      "execution_count": 27,
      "outputs": []
    },
    {
      "cell_type": "code",
      "source": [
        "# Definir la función de prueba del ejercicio\n",
        "f = lambda x: np.cos(x) - x"
      ],
      "metadata": {
        "id": "MbjxTUW6X8nY"
      },
      "execution_count": 31,
      "outputs": []
    },
    {
      "cell_type": "code",
      "source": [
        "# Parámetros iniciales\n",
        "a = 0.5\n",
        "b = np.pi / 4\n",
        "TOL = 1e-6\n",
        "N0 = 10"
      ],
      "metadata": {
        "id": "pOZv1eTKX9cP"
      },
      "execution_count": 32,
      "outputs": []
    },
    {
      "cell_type": "code",
      "execution_count": 33,
      "metadata": {
        "colab": {
          "base_uri": "https://localhost:8080/"
        },
        "id": "kHMF3-jUUs_1",
        "outputId": "435a89a7-2a29-4857-f4c2-4273e17cbeaf"
      },
      "outputs": [
        {
          "output_type": "stream",
          "name": "stdout",
          "text": [
            "+-------------+----------+----------+----------+-------------+------------------------+\n",
            "|   Iteración |        a |        b |        p |        f(p) | Error                  |\n",
            "+=============+==========+==========+==========+=============+========================+\n",
            "|           0 | 0.5      | 0.785398 | 0.736384 | 0.00451772  | -                      |\n",
            "+-------------+----------+----------+----------+-------------+------------------------+\n",
            "|           1 | 0.736384 | 0.785398 | 0.739058 | 4.51772e-05 | 0.004472541306206446   |\n",
            "+-------------+----------+----------+----------+-------------+------------------------+\n",
            "|           2 | 0.739058 | 0.785398 | 0.739085 | 4.50872e-07 | 4.4726344155421316e-05 |\n",
            "+-------------+----------+----------+----------+-------------+------------------------+\n"
          ]
        }
      ],
      "source": [
        "# Ejecutamos\n",
        "falsaPosicion(f, a, b, TOL, N0)"
      ]
    }
  ]
}