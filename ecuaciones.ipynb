{
  "nbformat": 4,
  "nbformat_minor": 0,
  "metadata": {
    "colab": {
      "provenance": [],
      "authorship_tag": "ABX9TyMX71KFIm14ysJUXZOtbiq2",
      "include_colab_link": true
    },
    "kernelspec": {
      "name": "python3",
      "display_name": "Python 3"
    },
    "language_info": {
      "name": "python"
    }
  },
  "cells": [
    {
      "cell_type": "markdown",
      "metadata": {
        "id": "view-in-github",
        "colab_type": "text"
      },
      "source": [
        "<a href=\"https://colab.research.google.com/github/angel-lar/Metodos-numericos/blob/main/ecuaciones.ipynb\" target=\"_parent\"><img src=\"https://colab.research.google.com/assets/colab-badge.svg\" alt=\"Open In Colab\"/></a>"
      ]
    },
    {
      "cell_type": "markdown",
      "source": [
        "$\\textbf{Método de euler}$"
      ],
      "metadata": {
        "id": "HYsh7BnxZWJo"
      }
    },
    {
      "cell_type": "markdown",
      "source": [
        "$\\text{Importamos las librerias}$"
      ],
      "metadata": {
        "id": "rIQrGYN9Z1hg"
      }
    },
    {
      "cell_type": "code",
      "source": [
        "import numpy as np\n",
        "import pandas as pd"
      ],
      "metadata": {
        "id": "GfQKJBTGZ0fh"
      },
      "execution_count": 1,
      "outputs": []
    },
    {
      "cell_type": "markdown",
      "source": [
        "$\\text{colocamos la función del problema: } y' = y - t^2 + 1$"
      ],
      "metadata": {
        "id": "gO7B5AG4aFQ1"
      }
    },
    {
      "cell_type": "code",
      "source": [
        "f = lambda t, y: y - t**2 + 1"
      ],
      "metadata": {
        "id": "C_bOrZKdagLU"
      },
      "execution_count": 2,
      "outputs": []
    },
    {
      "cell_type": "markdown",
      "source": [
        "$\\text{ahora pongo los valores reales de y(t) de la tabla 5.1 para comparar con la aproximación}$"
      ],
      "metadata": {
        "id": "3zZ8KwKroJzU"
      }
    },
    {
      "cell_type": "code",
      "source": [
        "solReal = [0.5, 0.8292986, 1.2140877, 1.6489406, 2.1272295, 2.6408591,\n",
        "            3.1799415, 3.7324000, 4.2834388, 4.8151763, 5.3054720]"
      ],
      "metadata": {
        "id": "D6CjkZFJoYkl"
      },
      "execution_count": 10,
      "outputs": []
    },
    {
      "cell_type": "markdown",
      "source": [
        "$\\text{ahora inserto los parametros del problema}$"
      ],
      "metadata": {
        "id": "6j-RpZcaafcN"
      }
    },
    {
      "cell_type": "code",
      "source": [
        "a = 0          # valor inicial de t\n",
        "b = 2          # valor final de t\n",
        "N = 10         # número de subintervalos\n",
        "h = (b - a) / N  # la distancia entre cada subintrevalo\n",
        "alpha = 0.5    # condición inicial y(a) = 0.5"
      ],
      "metadata": {
        "id": "mg56uoOFaqq8"
      },
      "execution_count": 11,
      "outputs": []
    },
    {
      "cell_type": "markdown",
      "source": [
        "$\\text{Listas para almacenar los valores de t y las aproximaciones w}$"
      ],
      "metadata": {
        "id": "YSh3KNkCow_3"
      }
    },
    {
      "cell_type": "code",
      "source": [
        "ts = [a]\n",
        "ws = [alpha]"
      ],
      "metadata": {
        "id": "R8NKJbapokVM"
      },
      "execution_count": 12,
      "outputs": []
    },
    {
      "cell_type": "markdown",
      "source": [
        "$\\text{Ahora sí el método de euler}$"
      ],
      "metadata": {
        "id": "neYoWMWUaroa"
      }
    },
    {
      "cell_type": "code",
      "execution_count": 13,
      "metadata": {
        "id": "SmYF23Wa_p4f"
      },
      "outputs": [],
      "source": [
        "t = a\n",
        "w = alpha\n",
        "for i in range(1, N + 1):\n",
        "    w = w + h * f(t, w) # fórmula\n",
        "    t = a + i * h # actualizar el valor de t\n",
        "    ts.append(t)\n",
        "    ws.append(w)\n"
      ]
    },
    {
      "cell_type": "markdown",
      "source": [
        "$\\text{Calcular el error absoluto comparando con la solución real}$"
      ],
      "metadata": {
        "id": "neozbxJ2a51n"
      }
    },
    {
      "cell_type": "code",
      "source": [
        "errores = [abs(yReal - wAprox) for yReal, wAprox in zip(solReal, ws)]"
      ],
      "metadata": {
        "id": "l4CTDbZ3Hbx1"
      },
      "execution_count": 17,
      "outputs": []
    },
    {
      "cell_type": "markdown",
      "source": [
        "$\\text{y ahora solo imprimo la tabla}$"
      ],
      "metadata": {
        "id": "pf0HpDIdbC2g"
      }
    },
    {
      "cell_type": "code",
      "source": [
        "print(df.to_string(index=False))"
      ],
      "metadata": {
        "colab": {
          "base_uri": "https://localhost:8080/"
        },
        "id": "kmgBfZjvcP11",
        "outputId": "7bbe220f-b21b-46a5-a77f-08d0b9611bf5"
      },
      "execution_count": 27,
      "outputs": [
        {
          "output_type": "stream",
          "name": "stdout",
          "text": [
            " t_i      w_i  y_i = y(t_i)  |y_i - w_i|\n",
            " 0.0 0.500000      0.500000     0.000000\n",
            " 0.2 0.800000      0.829299     0.029299\n",
            " 0.4 1.152000      1.214088     0.062088\n",
            " 0.6 1.550400      1.648941     0.098541\n",
            " 0.8 1.988480      2.127229     0.138749\n",
            " 1.0 2.458176      2.640859     0.182683\n",
            " 1.2 2.949811      3.179941     0.230130\n",
            " 1.4 3.451773      3.732400     0.280627\n",
            " 1.6 3.950128      4.283439     0.333311\n",
            " 1.8 4.428154      4.815176     0.387023\n",
            " 2.0 4.865785      5.305472     0.439687\n"
          ]
        }
      ]
    },
    {
      "cell_type": "markdown",
      "source": [
        "$\\textbf{ahora el metodo de taylor de orden n}$"
      ],
      "metadata": {
        "id": "0oJvAg8GquxW"
      }
    },
    {
      "cell_type": "markdown",
      "source": [
        "$\\text{usaré para sympy para derivar f(t, y)}$"
      ],
      "metadata": {
        "id": "IsTWSAsYcbtL"
      }
    },
    {
      "cell_type": "code",
      "source": [
        "import sympy as sp\n",
        "t, y = sp.symbols('t y')\n",
        "f = y - t**2 + 1 # es la funcion del ejemplo otra vez pero ahoracon sympy"
      ],
      "metadata": {
        "id": "-kyteOUmq5J7"
      },
      "execution_count": 28,
      "outputs": []
    },
    {
      "cell_type": "markdown",
      "source": [],
      "metadata": {
        "id": "Ok2WcSRjrnZV"
      }
    },
    {
      "cell_type": "code",
      "source": [
        "def taylor(f_, a, b, alpha, N, n, solReal=None):\n",
        "    h = (b - a) / N  # tamaño del paso\n",
        "\n",
        "    # Calcular derivadas de f hasta orden (n-1)\n",
        "    f_prima = [f_]\n",
        "    for i in range(1, n):\n",
        "        # derivada total usando regla de la cadena: df/dt + df/dy * dy/dt\n",
        "        f_prima.append(sp.diff(f_prima[-1], t) + sp.diff(f_prima[-1], y) * f_)\n",
        "\n",
        "    # Convertir derivadas simbólicas a funciones numéricas para evaluar\n",
        "    f_lambdas = [sp.lambdify((t, y), derivadas, modules=[\"numpy\"]) for derivadas in f_prima]\n",
        "    # Inicializar listas para resultados\n",
        "    ts = [a]\n",
        "    ws = [alpha]\n",
        "\n",
        "    # Valores iniciales\n",
        "    t_i = a\n",
        "    w_i = alpha\n",
        "\n",
        "    # Iteración del método de Taylor\n",
        "    for i in range(N):\n",
        "        T_n = 0  # aproximación del término de Taylor\n",
        "        for j in range(n):\n",
        "            T_n += (h**j / np.math.factorial(j)) * f_lambdas[j](t_i, w_i)\n",
        "        w_i = w_i + h * T_n  # actualizar w_i usando serie de Taylor\n",
        "        t_i = a + (i + 1) * h  # siguiente t\n",
        "        ts.append(t_i)\n",
        "        ws.append(w_i)\n",
        "\n",
        "    # Calcular errores si se dan valores reales\n",
        "    if solReal is not None:\n",
        "        errores = [abs(y_r - w_a) for y_r, w_a in zip(solReal, ws)]\n",
        "    else:\n",
        "        errores = [None] * len(ws)\n",
        "\n",
        "    # Crear la tabla como DataFrame\n",
        "    df = pd.DataFrame({\n",
        "        't_i': ts,\n",
        "        'w_i': ws,\n",
        "        'y_i = y(t_i)': solReal if solReal else [\"N/A\"] * len(ws),\n",
        "        '|y_i - w_i|': errores\n",
        "    })\n",
        "    return df"
      ],
      "metadata": {
        "id": "SlLMsvElroIo"
      },
      "execution_count": 44,
      "outputs": []
    },
    {
      "cell_type": "code",
      "source": [
        "print(df.to_string(index=False))"
      ],
      "metadata": {
        "id": "q4BsvfOnv7Pr",
        "outputId": "05d9995e-2e6d-4767-d5d1-b66c85cc6fbb",
        "colab": {
          "base_uri": "https://localhost:8080/"
        }
      },
      "execution_count": 50,
      "outputs": [
        {
          "output_type": "stream",
          "name": "stdout",
          "text": [
            " t_i      w_i  y_i = y(t_i)  |y_i - w_i|\n",
            " 0.0 0.500000      0.500000     0.000000\n",
            " 0.2 0.800000      0.829299     0.029299\n",
            " 0.4 1.152000      1.214088     0.062088\n",
            " 0.6 1.550400      1.648941     0.098541\n",
            " 0.8 1.988480      2.127229     0.138749\n",
            " 1.0 2.458176      2.640859     0.182683\n",
            " 1.2 2.949811      3.179941     0.230130\n",
            " 1.4 3.451773      3.732400     0.280627\n",
            " 1.6 3.950128      4.283439     0.333311\n",
            " 1.8 4.428154      4.815176     0.387023\n",
            " 2.0 4.865785      5.305472     0.439687\n"
          ]
        }
      ]
    }
  ]
}