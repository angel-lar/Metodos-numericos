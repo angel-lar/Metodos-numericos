{
  "nbformat": 4,
  "nbformat_minor": 0,
  "metadata": {
    "colab": {
      "provenance": [],
      "authorship_tag": "ABX9TyNKW2xtusQ4iSTp7HyXSAa7",
      "include_colab_link": true
    },
    "kernelspec": {
      "name": "python3",
      "display_name": "Python 3"
    },
    "language_info": {
      "name": "python"
    }
  },
  "cells": [
    {
      "cell_type": "markdown",
      "metadata": {
        "id": "view-in-github",
        "colab_type": "text"
      },
      "source": [
        "<a href=\"https://colab.research.google.com/github/angel-lar/Metodos-numericos/blob/main/sistemas_numericos.ipynb\" target=\"_parent\"><img src=\"https://colab.research.google.com/assets/colab-badge.svg\" alt=\"Open In Colab\"/></a>"
      ]
    },
    {
      "cell_type": "markdown",
      "source": [
        "$\\textbf{SISTEMAS NÚMERICOS}$"
      ],
      "metadata": {
        "id": "D9DG3XnuKUiO"
      }
    },
    {
      "cell_type": "markdown",
      "source": [
        "$\\textbf{¿Cómo cambiar de base un número en base 10? }$"
      ],
      "metadata": {
        "id": "yprh94P-P5Ay"
      }
    },
    {
      "cell_type": "markdown",
      "source": [
        "$\\text{mientras el factor sea distinto de cero agregaremos el residuo al inicio de la cadena y el nuevo factor será el cociente entero de dividir por dos al factor}$"
      ],
      "metadata": {
        "id": "6Srnvw79PMgY"
      }
    },
    {
      "cell_type": "code",
      "execution_count": 73,
      "metadata": {
        "id": "H8aQx1OELSch"
      },
      "outputs": [],
      "source": [
        "def binario(n):\n",
        "  bin=\"\"\n",
        "  while(n): #mientras el factor no sea cero\n",
        "    bin=str(n%2)+bin\n",
        "    '''convertimos n%2 a una cadena para poder concatenar y la ponemos al inicio\n",
        "    de bin para solucionar lo de que salen al revés'''\n",
        "    n//=2 #solo la parte entera\n",
        "  return int(bin)"
      ]
    },
    {
      "cell_type": "markdown",
      "source": [
        "$\\text{prueba: }$"
      ],
      "metadata": {
        "id": "VtwLtij_Tb2H"
      }
    },
    {
      "cell_type": "code",
      "source": [
        "print(binario(26))"
      ],
      "metadata": {
        "colab": {
          "base_uri": "https://localhost:8080/"
        },
        "id": "PnsxDshYTS7o",
        "outputId": "020901e2-02e3-43bd-df8f-6a4e1587c732"
      },
      "execution_count": 74,
      "outputs": [
        {
          "output_type": "stream",
          "name": "stdout",
          "text": [
            "11010\n"
          ]
        }
      ]
    },
    {
      "cell_type": "markdown",
      "source": [
        "$\\text{generalizando un cambio de base 10 a base b }\\forall 2\\leq b\\leq10 \\text{. Ya que al ser superior a 10 necesitaremos nuevos simbolos}$"
      ],
      "metadata": {
        "id": "6XKjZikKWCcI"
      }
    },
    {
      "cell_type": "code",
      "source": [
        "def enteroCambioBase(n,b):\n",
        "  r=\"\"\n",
        "  while(n):\n",
        "    r=str(n%b)+r #cambiamos el \"2\" por \"b\"\n",
        "    n//=b\n",
        "  return r #no olvidar que r es una string sin embargo despues lo cambiaremos por un número"
      ],
      "metadata": {
        "id": "3TwN-a_3WUZf"
      },
      "execution_count": 75,
      "outputs": []
    },
    {
      "cell_type": "code",
      "source": [
        "print(enteroCambioBase(26,8))"
      ],
      "metadata": {
        "colab": {
          "base_uri": "https://localhost:8080/"
        },
        "id": "wqgZwAnfXpBA",
        "outputId": "8e4de1e2-1299-40fb-cf00-5055767fd00e"
      },
      "execution_count": 77,
      "outputs": [
        {
          "output_type": "stream",
          "name": "stdout",
          "text": [
            "32\n"
          ]
        }
      ]
    },
    {
      "cell_type": "markdown",
      "source": [
        "$\\text{Para convertir racionales entre 0 y 1, en lugar de dividir entre la base, mientras n sea distinto de cero llamaremos }q\\text{ al factor}\\\\\\text{entre la parte fraccionaria y la base, despues agregamos la parte entera de }q\\text{ a la cadena y actualizamos el valor de }n\\text{ por la parte fraccionaria de }q$\n",
        "\n",
        "$\\text{}$"
      ],
      "metadata": {
        "id": "b42Hx8fZcNHQ"
      }
    },
    {
      "cell_type": "code",
      "source": [
        "def fraccionCambioBase(n,b):\n",
        "  r=\".\" #todos los resultados comenzaran de esta forma\n",
        "  while(n):\n",
        "    q=n*b #guardamos el factor en q para no recalcularlo 3 veces\n",
        "    r+=str(int(q))\n",
        "    n=q-int(q) # q-int(q) es la parte fraccionaria de q\n",
        "  return r #nuevamente no convertimos el resultado a flotante"
      ],
      "metadata": {
        "id": "i5C0sNI_ZGeA"
      },
      "execution_count": 78,
      "outputs": []
    },
    {
      "cell_type": "code",
      "source": [
        "print(fraccionCambioBase(0.125,2))"
      ],
      "metadata": {
        "colab": {
          "base_uri": "https://localhost:8080/"
        },
        "id": "wz5GHPE388CV",
        "outputId": "3c46dfb0-a375-41de-c3bd-b3c4905f999b"
      },
      "execution_count": 79,
      "outputs": [
        {
          "output_type": "stream",
          "name": "stdout",
          "text": [
            ".001\n"
          ]
        }
      ]
    },
    {
      "cell_type": "markdown",
      "source": [
        "$\\text{ahora programemos una funcion definitiva que nos devuelva la expansión binaria de cualquier número real }r.\\\\\\text{si el numero es negativo agregaremos un \"-\" a nuestra cadena y volveremos positivo a }r\\text{ para poder utilizar nuestras funciones pasadas.}\\\\\\text{luego, concatenaremos la expansión binaria de la parte entera de }r\\text{ y posteriormente la expansión binaria de su parte fraccionaria,}\\\\\\text{de tal forma que tengamos una cadena con el equivalente de }r\\text{ en binario para despues convertirlo a un numero flotante y así}\\\\\\text{poder utilizarlo en algun programa}$"
      ],
      "metadata": {
        "id": "TUBHc8Ph9u2G"
      }
    },
    {
      "cell_type": "code",
      "source": [
        "def cambioBase(r,b):\n",
        "  c=\"\"\n",
        "  if(r<0):\n",
        "    c+=\"-\"\n",
        "    r=-r #-r>0\n",
        "  c+=enteroCambioBase(int(r),b)+fraccionCambioBase(r-int(r),b)\n",
        "  '''esta es la razón por la que en las funciones anteriores dejabamos el\n",
        "  resultado como cadena para poder concatenar'''\n",
        "  return float(c) #ahora sí lo convertimos el resultado en un número flotante"
      ],
      "metadata": {
        "id": "92c6vQ3x9wam"
      },
      "execution_count": 84,
      "outputs": []
    },
    {
      "cell_type": "markdown",
      "source": [
        "$\\text{Ejemplo base 2: }$"
      ],
      "metadata": {
        "id": "FHx-4ma0NaQo"
      }
    },
    {
      "cell_type": "code",
      "source": [
        "print(cambioBase(-26.125,2))"
      ],
      "metadata": {
        "colab": {
          "base_uri": "https://localhost:8080/"
        },
        "id": "s-X0wgmUAAjs",
        "outputId": "8b22c29a-085f-4a96-e102-75c2dd40c581"
      },
      "execution_count": 91,
      "outputs": [
        {
          "output_type": "stream",
          "name": "stdout",
          "text": [
            "-11010.001\n"
          ]
        }
      ]
    },
    {
      "cell_type": "markdown",
      "source": [
        "$\\text{Ejemplo base 8:}$"
      ],
      "metadata": {
        "id": "VNbh3BVHNiOC"
      }
    },
    {
      "cell_type": "code",
      "source": [
        "print(cambioBase(-26.125,8))"
      ],
      "metadata": {
        "colab": {
          "base_uri": "https://localhost:8080/"
        },
        "id": "MLbIU0-ONntm",
        "outputId": "2123f325-6ef7-49cd-9b5a-51a7e0adb13a"
      },
      "execution_count": 92,
      "outputs": [
        {
          "output_type": "stream",
          "name": "stdout",
          "text": [
            "-32.1\n"
          ]
        }
      ]
    },
    {
      "cell_type": "markdown",
      "source": [
        "$\\text{En python no existe una funcion preprogramada que calcule numeros en binario de esta forma, solamente }bin()\\text{ y }oct()\\\\\\text{para numeros enteros positivos en binario y octal, respectivamente}$."
      ],
      "metadata": {
        "id": "HU0ZPk_sOepV"
      }
    }
  ]
}