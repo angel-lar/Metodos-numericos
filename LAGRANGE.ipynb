{
  "nbformat": 4,
  "nbformat_minor": 0,
  "metadata": {
    "colab": {
      "provenance": [],
      "authorship_tag": "ABX9TyMLKXGsWGUS49wwVrTpEiCQ",
      "include_colab_link": true
    },
    "kernelspec": {
      "name": "python3",
      "display_name": "Python 3"
    },
    "language_info": {
      "name": "python"
    }
  },
  "cells": [
    {
      "cell_type": "markdown",
      "metadata": {
        "id": "view-in-github",
        "colab_type": "text"
      },
      "source": [
        "<a href=\"https://colab.research.google.com/github/angel-lar/Metodos-numericos/blob/main/LAGRANGE.ipynb\" target=\"_parent\"><img src=\"https://colab.research.google.com/assets/colab-badge.svg\" alt=\"Open In Colab\"/></a>"
      ]
    },
    {
      "cell_type": "markdown",
      "source": [
        "$\\textbf{Polinomio de interpolación de Lagrange}$"
      ],
      "metadata": {
        "id": "iksLlFgPvVSw"
      }
    },
    {
      "cell_type": "markdown",
      "source": [
        "$\\text{para encontrar el polinamio de grado }n-1\\text{ que pasa por }n\\text{ puntos, usamos la formula: }$"
      ],
      "metadata": {
        "id": "YwHRGtfK0APN"
      }
    },
    {
      "cell_type": "markdown",
      "source": [
        "$P(x) = \\sum_{i=0}^{n-1} y_i \\cdot \\prod_{\\substack{0 \\leq j \\leq n-1 \\\\ j \\neq i}} \\frac{x - x_j}{x_i - x_j} $"
      ],
      "metadata": {
        "id": "RkLUJvbX1IGX"
      }
    },
    {
      "cell_type": "markdown",
      "source": [
        "$\\text{la cual programaremos a continuación: }\\\\\n",
        "\\text{Importamos la libreria }sympy$"
      ],
      "metadata": {
        "id": "lTt8AsXc1meP"
      }
    },
    {
      "cell_type": "code",
      "source": [
        "import sympy as sp"
      ],
      "metadata": {
        "id": "nhI1gBvZ11qb"
      },
      "execution_count": 24,
      "outputs": []
    },
    {
      "cell_type": "markdown",
      "source": [
        "$\\text{definamos la funcion: }$"
      ],
      "metadata": {
        "id": "m2Jd-YbO2W-m"
      }
    },
    {
      "cell_type": "code",
      "execution_count": 25,
      "metadata": {
        "id": "vPtZ8Mk3lds7"
      },
      "outputs": [],
      "source": [
        "def lagrange(points):#el parametro será la lista de puntos\n",
        "    x = sp.Symbol('x')\n",
        "    n = len(points) #n es el numero de puntos\n",
        "    polinomio = 0 #lo inicializamos en cero\n",
        "\n",
        "    for i in range(n):\n",
        "        xi, yi = puntos[i] #vamos a pedirle los n puntos y los guardamos en el array\n",
        "        termino = yi #esta será la variable para ir metiendo cada termino\n",
        "        for j in range(n):\n",
        "            if i != j:\n",
        "                xj, _ = puntos[j]\n",
        "                termino *= (x - xj) / (xi - xj)#calculamos cada termino y se lo concatenamos al polinomio\n",
        "        polinomio += termino\n",
        "\n",
        "    return sp.expand(polinomio)"
      ]
    },
    {
      "cell_type": "markdown",
      "source": [
        "$\\text{solicitamos el numero de puntos y creamos el arreglo}$"
      ],
      "metadata": {
        "id": "Mri-2XfZ5qeB"
      }
    },
    {
      "cell_type": "code",
      "source": [
        "x = sp.Symbol('x')\n",
        "n = int(input(\"¿Cuántos puntos vas a ingresar? \"))\n",
        "puntos = []"
      ],
      "metadata": {
        "colab": {
          "base_uri": "https://localhost:8080/"
        },
        "id": "24CXDWR64UNf",
        "outputId": "601e92de-366d-4289-be1b-164ea6b57da8"
      },
      "execution_count": 26,
      "outputs": [
        {
          "name": "stdout",
          "output_type": "stream",
          "text": [
            "¿Cuántos puntos vas a ingresar? 3\n"
          ]
        }
      ]
    },
    {
      "cell_type": "markdown",
      "source": [
        "$\\text{vamos a pedirle el (x,y) n veces y los agregamos al array}$"
      ],
      "metadata": {
        "id": "8k5POhDN53Jw"
      }
    },
    {
      "cell_type": "code",
      "source": [
        "for i in range(n):\n",
        "  xi = float(input(f\"Ingrese x_{i}: \"))\n",
        "  yi = float(input(f\"Ingrese y_{i}: \"))\n",
        "  puntos.append((xi, yi))"
      ],
      "metadata": {
        "colab": {
          "base_uri": "https://localhost:8080/"
        },
        "id": "Mv6Stz7_4hTB",
        "outputId": "7bd8b665-4f00-439a-dded-e8726cc324c4"
      },
      "execution_count": 27,
      "outputs": [
        {
          "name": "stdout",
          "output_type": "stream",
          "text": [
            "Ingrese x_0: 1\n",
            "Ingrese y_0: 1\n",
            "Ingrese x_1: 2\n",
            "Ingrese y_1: 4\n",
            "Ingrese x_2: 3\n",
            "Ingrese y_2: 9\n"
          ]
        }
      ]
    },
    {
      "cell_type": "markdown",
      "source": [
        "$\\text{guardamos el polinomio en poli}$"
      ],
      "metadata": {
        "id": "kY-HHzhw6IDI"
      }
    },
    {
      "cell_type": "code",
      "source": [
        "poli = lagrange(puntos)"
      ],
      "metadata": {
        "id": "4aupuzKd4otl"
      },
      "execution_count": 28,
      "outputs": []
    },
    {
      "cell_type": "markdown",
      "source": [
        "$\\text{imprimimos el resultado}$"
      ],
      "metadata": {
        "id": "2QsLwI9i6Qah"
      }
    },
    {
      "cell_type": "code",
      "source": [
        "print(\"\\nEl polinomio de Lagrange es:\")\n",
        "sp.pprint(poli, use_unicode=True)"
      ],
      "metadata": {
        "colab": {
          "base_uri": "https://localhost:8080/"
        },
        "id": "AczEzJDH4s5t",
        "outputId": "b3c6c6a9-6c1f-45e1-935b-31a2283d072e"
      },
      "execution_count": 29,
      "outputs": [
        {
          "output_type": "stream",
          "name": "stdout",
          "text": [
            "\n",
            "El polinomio de Lagrange es:\n",
            "     2\n",
            "1.0⋅x \n"
          ]
        }
      ]
    },
    {
      "cell_type": "markdown",
      "source": [
        "$\\text{evaluamos el polinomio en el punto deseado e imprimimos el resultado}$"
      ],
      "metadata": {
        "id": "SL3a6rS56Z20"
      }
    },
    {
      "cell_type": "code",
      "source": [
        "valor = float(input(\"\\nIngresa un valor de x para evaluar el polinomio: \"))\n",
        "resultado = poli.subs(x, valor).evalf()#subs remplaza en este caso \"x\" por (valor) y evalf lo evalua en decimales\n",
        "print(f\"\\nP({valor}) = {resultado}\")"
      ],
      "metadata": {
        "colab": {
          "base_uri": "https://localhost:8080/"
        },
        "id": "T4em8VWf4yvb",
        "outputId": "9276baa4-e823-4dd5-f3c5-2b342052892c"
      },
      "execution_count": 30,
      "outputs": [
        {
          "output_type": "stream",
          "name": "stdout",
          "text": [
            "\n",
            "Ingresa un valor de x para evaluar el polinomio: 7\n",
            "\n",
            "P(7.0) = 49.0000000000000\n"
          ]
        }
      ]
    }
  ]
}