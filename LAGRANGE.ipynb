{
  "nbformat": 4,
  "nbformat_minor": 0,
  "metadata": {
    "colab": {
      "provenance": [],
      "authorship_tag": "ABX9TyNNJJPcerahiB+92wTKLRh2",
      "include_colab_link": true
    },
    "kernelspec": {
      "name": "python3",
      "display_name": "Python 3"
    },
    "language_info": {
      "name": "python"
    }
  },
  "cells": [
    {
      "cell_type": "markdown",
      "metadata": {
        "id": "view-in-github",
        "colab_type": "text"
      },
      "source": [
        "<a href=\"https://colab.research.google.com/github/angel-lar/Metodos-numericos/blob/main/LAGRANGE.ipynb\" target=\"_parent\"><img src=\"https://colab.research.google.com/assets/colab-badge.svg\" alt=\"Open In Colab\"/></a>"
      ]
    },
    {
      "cell_type": "markdown",
      "source": [
        "$\\textbf{Polinomio de interpolación de Lagrange}$"
      ],
      "metadata": {
        "id": "iksLlFgPvVSw"
      }
    },
    {
      "cell_type": "markdown",
      "source": [
        "$\\text{para encontrar el polinamio de grado }n-1\\text{ que pasa por }n\\text{ puntos, usamos la formula: }$"
      ],
      "metadata": {
        "id": "YwHRGtfK0APN"
      }
    },
    {
      "cell_type": "markdown",
      "source": [
        "$P(x) = \\sum_{i=0}^{n-1} y_i \\cdot \\prod_{\\substack{0 \\leq j \\leq n-1 \\\\ j \\neq i}} \\frac{x - x_j}{x_i - x_j} $"
      ],
      "metadata": {
        "id": "RkLUJvbX1IGX"
      }
    },
    {
      "cell_type": "markdown",
      "source": [
        "$\\text{la cual programaremos a continuación: }\\\\\n",
        "\\text{Importamos la libreria }sympy$"
      ],
      "metadata": {
        "id": "lTt8AsXc1meP"
      }
    },
    {
      "cell_type": "code",
      "source": [
        "import sympy as sp\n",
        "import matplotlib.pyplot as plt\n",
        "import numpy as np"
      ],
      "metadata": {
        "id": "nhI1gBvZ11qb"
      },
      "execution_count": 32,
      "outputs": []
    },
    {
      "cell_type": "markdown",
      "source": [
        "$\\text{definamos la funcion: }$"
      ],
      "metadata": {
        "id": "m2Jd-YbO2W-m"
      }
    },
    {
      "cell_type": "code",
      "execution_count": 25,
      "metadata": {
        "id": "vPtZ8Mk3lds7"
      },
      "outputs": [],
      "source": [
        "def lagrange(points):#el parametro será la lista de puntos\n",
        "    x = sp.Symbol('x')\n",
        "    n = len(points) #n es el numero de puntos\n",
        "    polinomio = 0 #lo inicializamos en cero\n",
        "\n",
        "    for i in range(n):\n",
        "        xi, yi = puntos[i] #vamos a pedirle los n puntos y los guardamos en el array\n",
        "        termino = yi #esta será la variable para ir metiendo cada termino\n",
        "        for j in range(n):\n",
        "            if i != j:\n",
        "                xj, _ = puntos[j]\n",
        "                termino *= (x - xj) / (xi - xj)#calculamos cada termino y se lo concatenamos al polinomio\n",
        "        polinomio += termino\n",
        "\n",
        "    return sp.expand(polinomio)"
      ]
    },
    {
      "cell_type": "markdown",
      "source": [
        "$\\text{solicitamos el numero de puntos y creamos el arreglo}$"
      ],
      "metadata": {
        "id": "Mri-2XfZ5qeB"
      }
    },
    {
      "cell_type": "code",
      "source": [
        "x = sp.Symbol('x')\n",
        "n = int(input(\"¿Cuántos puntos vas a ingresar? \"))\n",
        "puntos = []"
      ],
      "metadata": {
        "colab": {
          "base_uri": "https://localhost:8080/"
        },
        "id": "24CXDWR64UNf",
        "outputId": "2356fdb0-2180-411e-db7d-703349062cc8"
      },
      "execution_count": 34,
      "outputs": [
        {
          "name": "stdout",
          "output_type": "stream",
          "text": [
            "¿Cuántos puntos vas a ingresar? 4\n"
          ]
        }
      ]
    },
    {
      "cell_type": "markdown",
      "source": [
        "$\\text{vamos a pedirle el (x,y) n veces y los agregamos al array}$"
      ],
      "metadata": {
        "id": "8k5POhDN53Jw"
      }
    },
    {
      "cell_type": "code",
      "source": [
        "for i in range(n):\n",
        "  xi = float(input(f\"Ingrese x_{i}: \"))\n",
        "  yi = float(input(f\"Ingrese y_{i}: \"))\n",
        "  puntos.append((xi, yi))"
      ],
      "metadata": {
        "colab": {
          "base_uri": "https://localhost:8080/"
        },
        "id": "Mv6Stz7_4hTB",
        "outputId": "d8a8b68b-0217-444a-aa42-2c30d6bca0d8"
      },
      "execution_count": 35,
      "outputs": [
        {
          "name": "stdout",
          "output_type": "stream",
          "text": [
            "Ingrese x_0: 1\n",
            "Ingrese y_0: 1\n",
            "Ingrese x_1: 2\n",
            "Ingrese y_1: 2\n",
            "Ingrese x_2: 3\n",
            "Ingrese y_2: 3\n",
            "Ingrese x_3: 4\n",
            "Ingrese y_3: 4\n"
          ]
        }
      ]
    },
    {
      "cell_type": "markdown",
      "source": [
        "$\\text{guardamos el polinomio en poli}$"
      ],
      "metadata": {
        "id": "kY-HHzhw6IDI"
      }
    },
    {
      "cell_type": "code",
      "source": [
        "poli = lagrange(puntos)"
      ],
      "metadata": {
        "id": "4aupuzKd4otl"
      },
      "execution_count": 36,
      "outputs": []
    },
    {
      "cell_type": "markdown",
      "source": [
        "$\\text{imprimimos el resultado}$"
      ],
      "metadata": {
        "id": "2QsLwI9i6Qah"
      }
    },
    {
      "cell_type": "code",
      "source": [
        "print(\"\\nEl polinomio de Lagrange es:\")\n",
        "sp.pprint(poli, use_unicode=True)"
      ],
      "metadata": {
        "colab": {
          "base_uri": "https://localhost:8080/"
        },
        "id": "AczEzJDH4s5t",
        "outputId": "2b60eaa4-03ec-41b4-c1c9-7efec5747cb8"
      },
      "execution_count": 37,
      "outputs": [
        {
          "output_type": "stream",
          "name": "stdout",
          "text": [
            "\n",
            "El polinomio de Lagrange es:\n",
            "1.0⋅x\n"
          ]
        }
      ]
    },
    {
      "cell_type": "markdown",
      "source": [
        "$\\text{evaluamos el polinomio en el punto deseado e imprimimos el resultado}$"
      ],
      "metadata": {
        "id": "SL3a6rS56Z20"
      }
    },
    {
      "cell_type": "code",
      "source": [
        "valor = float(input(\"\\nIngresa un valor de x para evaluar el polinomio: \"))\n",
        "resultado = poli.subs(x, valor).evalf()#subs remplaza en este caso \"x\" por (valor) y evalf lo evalua en decimales\n",
        "print(f\"\\nP({valor}) = {resultado}\")"
      ],
      "metadata": {
        "colab": {
          "base_uri": "https://localhost:8080/"
        },
        "id": "T4em8VWf4yvb",
        "outputId": "750893e9-b7c0-4066-9d44-8060063f6367"
      },
      "execution_count": 38,
      "outputs": [
        {
          "output_type": "stream",
          "name": "stdout",
          "text": [
            "\n",
            "Ingresa un valor de x para evaluar el polinomio: 2.5\n",
            "\n",
            "P(2.5) = 2.50000000000000\n"
          ]
        }
      ]
    },
    {
      "cell_type": "markdown",
      "source": [
        "$\\text{para graficar hay que cpnvertir el polinomio a una funcion numerica}$"
      ],
      "metadata": {
        "id": "FkICnNfy9Vdf"
      }
    },
    {
      "cell_type": "code",
      "source": [
        "funcion = sp.lambdify(x, poli, 'numpy')#lambdify convierte una expresion simbolica en una funcion numerica"
      ],
      "metadata": {
        "id": "lHUfmr3U_fiP"
      },
      "execution_count": 42,
      "outputs": []
    },
    {
      "cell_type": "markdown",
      "source": [
        "$\\text{Creamos una particion para el dominio y los Y's serán los valores de la funcion}$"
      ],
      "metadata": {
        "id": "ZH3BgVQB_kja"
      }
    },
    {
      "cell_type": "code",
      "source": [
        "X = np.linspace(min([xi for xi, yi in puntos]) - 1, max([xi for xi, yi in puntos]) + 1, 400)\n",
        "Y = funcion(x_vals)"
      ],
      "metadata": {
        "id": "rITMpSVQ_jc2"
      },
      "execution_count": 45,
      "outputs": []
    },
    {
      "cell_type": "markdown",
      "source": [
        "$\\text{el resto del codigo lo unificaré para que salga todo en una misma grafica}$"
      ],
      "metadata": {
        "id": "UWQbHSy__7O5"
      }
    },
    {
      "cell_type": "code",
      "source": [
        "#con ese \"dominio\" y los valores que toma creamos la grafica\n",
        "plt.plot(X, Y, label='Polinomio de Lagrange', color='blue')\n",
        "\n",
        "#tomamos la primera entrada de las tuplas que estan en puntos, es decir las x's y las guardamos. de la misma forma lo hacermos con Y\n",
        "puntos_x = [xi for xi, yi in puntos]\n",
        "puntos_y = [yi for xi, yi in puntos]\n",
        "plt.scatter(puntos_x, puntos_y, color='red', zorder=5, label='Puntos dados')#scatter hace la grafica discreta de esos puntos\n",
        "\n",
        "# de la misma forma graficamos el punto en el que evaluamos el polinomio al final\n",
        "plt.scatter([valor], [resultado], color='green', zorder=5, label=f'P({valor}) = {resultado}')\n",
        "\n",
        "# Etiquetas y título\n",
        "plt.title('Gráfico del Polinomio de Lagrange y puntos dados')\n",
        "plt.xlabel('x')\n",
        "plt.ylabel('y')\n",
        "plt.legend()\n",
        "\n",
        "# Mostrar la gráfica\n",
        "plt.grid(True)\n",
        "plt.show()"
      ],
      "metadata": {
        "colab": {
          "base_uri": "https://localhost:8080/",
          "height": 472
        },
        "id": "omr2KNuC9asY",
        "outputId": "00a9b510-64ea-46f1-c923-f905eb165175"
      },
      "execution_count": 47,
      "outputs": [
        {
          "output_type": "display_data",
          "data": {
            "text/plain": [
              "<Figure size 640x480 with 1 Axes>"
            ],
            "image/png": "[encoded data removed]"
          },
          "metadata": {}
        }
      ]
    }
  ]
}