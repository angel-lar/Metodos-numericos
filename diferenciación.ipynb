{
  "nbformat": 4,
  "nbformat_minor": 0,
  "metadata": {
    "colab": {
      "provenance": [],
      "authorship_tag": "ABX9TyPB09hHtAVdzFKI2IqcQC8b",
      "include_colab_link": true
    },
    "kernelspec": {
      "name": "python3",
      "display_name": "Python 3"
    },
    "language_info": {
      "name": "python"
    }
  },
  "cells": [
    {
      "cell_type": "markdown",
      "metadata": {
        "id": "view-in-github",
        "colab_type": "text"
      },
      "source": [
        "<a href=\"https://colab.research.google.com/github/angel-lar/Metodos-numericos/blob/main/diferenciaci%C3%B3n.ipynb\" target=\"_parent\"><img src=\"https://colab.research.google.com/assets/colab-badge.svg\" alt=\"Open In Colab\"/></a>"
      ]
    },
    {
      "cell_type": "markdown",
      "source": [
        "$\\textbf{Diferenciación numérica}$"
      ],
      "metadata": {
        "id": "vEeLbvolihpX"
      }
    },
    {
      "cell_type": "markdown",
      "source": [
        "importamos librerias"
      ],
      "metadata": {
        "id": "d2Oehu-Ti4ef"
      }
    },
    {
      "cell_type": "code",
      "source": [
        "import sympy as sp"
      ],
      "metadata": {
        "id": "dYD0Pn65igBu"
      },
      "execution_count": 13,
      "outputs": []
    },
    {
      "cell_type": "markdown",
      "source": [
        "$\\text{definimos la fórmulas tal cual vienen en el libro. la primera: la del extremo de tres puntos hacia adelante donde los parametros serán: }$"
      ],
      "metadata": {
        "id": "QerFZRPVi8EN"
      }
    },
    {
      "cell_type": "markdown",
      "source": [
        "$\\text{fx0, fx1, fx2 y h}$"
      ],
      "metadata": {
        "id": "_V5viUHYjNA0"
      }
    },
    {
      "cell_type": "code",
      "source": [
        "def extremo_3pt(fx0, fx1, fx2, h):#hacia adelante\n",
        "    return (-3*fx0 + 4*fx1 - fx2) / (2*h)"
      ],
      "metadata": {
        "id": "7pm3A85-i7Ur"
      },
      "execution_count": 12,
      "outputs": []
    },
    {
      "cell_type": "markdown",
      "source": [
        "$\\text{ahora hacia atrás}$"
      ],
      "metadata": {
        "id": "M1MYQltDFtVV"
      }
    },
    {
      "cell_type": "code",
      "source": [
        "def extremo_3pt_atras(fxm2, fxm1, fx0, h):\n",
        "    return (3*fx0 - 4*fxm1 + fxm2) / (2*h)"
      ],
      "metadata": {
        "id": "_9dHLOQvFsva"
      },
      "execution_count": 11,
      "outputs": []
    },
    {
      "cell_type": "markdown",
      "source": [
        "$\\text{ahora la fórmula del punto medio de tres puntos}$"
      ],
      "metadata": {
        "id": "0FfJm2_pGCcO"
      }
    },
    {
      "cell_type": "code",
      "source": [
        "def punto_medio_3pt(fxm1, fx1, h):\n",
        "    return (fx1 - fxm1) / (2*h)"
      ],
      "metadata": {
        "id": "xvvCVwyqGDMj"
      },
      "execution_count": 10,
      "outputs": []
    },
    {
      "cell_type": "markdown",
      "source": [
        "$\\text{luego para 5 pts}$"
      ],
      "metadata": {
        "id": "u3Xz3GNtGeF6"
      }
    },
    {
      "cell_type": "code",
      "source": [
        "def punto_medio_5pt(fxm2, fxm1, fx1, fx2, h):\n",
        "    return (fxm2 - 8*fxm1 + 8*fx1 - fx2) / (12*h)"
      ],
      "metadata": {
        "id": "EcicUCfqGk1I"
      },
      "execution_count": 9,
      "outputs": []
    },
    {
      "cell_type": "markdown",
      "source": [
        "$\\text{ahora la del extremo pero para 5 puntos}$"
      ],
      "metadata": {
        "id": "dGbuCSGwG_3W"
      }
    },
    {
      "cell_type": "code",
      "source": [
        "def extremo_5pt(fx0, fx1, fx2, fx3, fx4, h):\n",
        "    return (-25*fx0 + 48*fx1 - 36*fx2 + 16*fx3 - 3*fx4) / (12*h)\n"
      ],
      "metadata": {
        "id": "upPXm_opG_PO"
      },
      "execution_count": 6,
      "outputs": []
    },
    {
      "cell_type": "markdown",
      "source": [
        "$\\text{y por último, la fórmula del punto medio de la segunda derivada}$"
      ],
      "metadata": {
        "id": "Rauv2zblHKwu"
      }
    },
    {
      "cell_type": "code",
      "source": [
        "def derivada_segunda_5pt(fxm2, fxm1, fx0, fx1, fx2, h):\n",
        "    return (-fxm2 + 16*fxm1 - 30*fx0 + 16*fx1 - fx2) / (12*h**2)"
      ],
      "metadata": {
        "id": "X4Qc8iojHWum"
      },
      "execution_count": 8,
      "outputs": []
    },
    {
      "cell_type": "markdown",
      "source": [
        "$\\text{Ahora metamos los datos de ejemplo de la pagina 132 }f(x) = x * exp(x)$"
      ],
      "metadata": {
        "id": "e456l01skTWw"
      }
    },
    {
      "cell_type": "code",
      "source": [
        "x = sp.Symbol('x')\n",
        "f_expr = x * sp.exp(x)\n",
        "f = sp.lambdify(x, f_expr)"
      ],
      "metadata": {
        "id": "FjNknmQ8kp6z"
      },
      "execution_count": 14,
      "outputs": []
    },
    {
      "cell_type": "markdown",
      "source": [
        "$\\text{la tabla 4.2}$"
      ],
      "metadata": {
        "id": "r0JpYnSulC1-"
      }
    },
    {
      "cell_type": "code",
      "source": [
        "valores = {\n",
        "    1.8: 10.889365,\n",
        "    1.9: 12.703199,\n",
        "    2.0: 14.778112,\n",
        "    2.1: 17.148957,\n",
        "    2.2: 19.855030\n",
        "}"
      ],
      "metadata": {
        "id": "QGFbcm2aIQFb"
      },
      "execution_count": 16,
      "outputs": []
    },
    {
      "cell_type": "markdown",
      "source": [
        "$\\text{podríamos hacer que h se ponga en automático pero ya tengo sueño así que mejor lo ponemos manualmente}$"
      ],
      "metadata": {
        "id": "H3FK4zCSIeE3"
      }
    },
    {
      "cell_type": "code",
      "source": [
        "h = 0.1"
      ],
      "metadata": {
        "id": "QpXs1bEzkwkZ"
      },
      "execution_count": 15,
      "outputs": []
    },
    {
      "cell_type": "markdown",
      "source": [
        "$\\text{Applicamos las formulas y guardamos en variables temporales para simplificar los outputs}$"
      ],
      "metadata": {
        "id": "hkaJDQ6hlTi-"
      }
    },
    {
      "cell_type": "code",
      "source": [
        "# f'(2.0) con fórmula del extremo (h positivo y negativo)\n",
        "A = extremo_3pt(valores[2.0], valores[2.1], valores[2.2], h)\n",
        "B = extremo_3pt_atras(valores[1.8], valores[1.9], valores[2.0], h)\n",
        "\n",
        "# f'(2.0) con fórmula de punto medio de 3 puntos (h = 0.1 y h = 0.2)\n",
        "C = punto_medio_3pt(valores[1.9], valores[2.1], h)\n",
        "D = punto_medio_3pt(valores[1.8], valores[2.2], 0.2)\n",
        "\n",
        "# f'(2.0) con fórmula de punto medio de 5 puntos\n",
        "E = punto_medio_5pt(valores[1.8], valores[1.9], valores[2.1], valores[2.2], h)\n"
      ],
      "metadata": {
        "id": "qgjRYU6xlbp-"
      },
      "execution_count": 17,
      "outputs": []
    },
    {
      "cell_type": "markdown",
      "source": [
        "$\\text{Calculamos el valor exacto de la derivada para así saber el error}$"
      ],
      "metadata": {
        "id": "_LFCEgBWl14Z"
      }
    },
    {
      "cell_type": "code",
      "execution_count": 19,
      "metadata": {
        "id": "L-AOZCuSiNBD"
      },
      "outputs": [],
      "source": [
        "derivadaExac = sp.diff(f_expr, x) #sp.diff es lo que calcula la derivada respecto a x con simpy\n",
        "valorExacto = derivadaExac.subs(x, 2.0).evalf()"
      ]
    },
    {
      "cell_type": "markdown",
      "source": [
        "$\\text{Imprimimos los resultados y los errores absolutos}$"
      ],
      "metadata": {
        "id": "Fnob15vvmU96"
      }
    },
    {
      "cell_type": "code",
      "source": [
        "print(\"Aproximaciones de f'(2.0):\")\n",
        "print(f\"Extremo 3 puntos h=0.1:     {A:.6f}\")\n",
        "print(f\"Extremo 3 puntos h=-0.1:    {B:.6f}\")\n",
        "print(f\"Punto medio 3 puntos h=0.1: {C:.6f}\")\n",
        "print(f\"Punto medio 3 puntos h=0.2: {D:.6f}\")\n",
        "print(f\"Punto medio 5 puntos h=0.1: {E:.6f}\")\n",
        "print(f\"Valor exacto f'(2.0):       {valorExacto:.6f}\")\n",
        "\n",
        "# Errores absolutos\n",
        "print(\"\\nErrores absolutos:\")\n",
        "print(f\"Error extremo h=0.1:        {abs(A - valorExacto):.2e}\")\n",
        "print(f\"Error extremo h=-0.1:       {abs(B - valorExacto):.2e}\")\n",
        "print(f\"Error punto medio h=0.1:    {abs(C - valorExacto):.2e}\")\n",
        "print(f\"Error punto medio h=0.2:    {abs(D - valorExacto):.2e}\")\n",
        "print(f\"Error punto medio 5 pts:    {abs(E - valorExacto):.2e}\")\n"
      ],
      "metadata": {
        "colab": {
          "base_uri": "https://localhost:8080/"
        },
        "id": "9oMydwl_mVtI",
        "outputId": "07a18265-2500-4700-b808-69649e8080fa"
      },
      "execution_count": 20,
      "outputs": [
        {
          "output_type": "stream",
          "name": "stdout",
          "text": [
            "Aproximaciones de f'(2.0):\n",
            "Extremo 3 puntos h=0.1:     22.032310\n",
            "Extremo 3 puntos h=-0.1:    22.054525\n",
            "Punto medio 3 puntos h=0.1: 22.228790\n",
            "Punto medio 3 puntos h=0.2: 22.414162\n",
            "Punto medio 5 puntos h=0.1: 22.166999\n",
            "Valor exacto f'(2.0):       22.167168\n",
            "\n",
            "Errores absolutos:\n",
            "Error extremo h=0.1:        1.35e-1\n",
            "Error extremo h=-0.1:       1.13e-1\n",
            "Error punto medio h=0.1:    6.16e-2\n",
            "Error punto medio h=0.2:    2.47e-1\n",
            "Error punto medio 5 pts:    1.69e-4\n"
          ]
        }
      ]
    }
  ]
}