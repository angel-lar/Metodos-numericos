{
  "nbformat": 4,
  "nbformat_minor": 0,
  "metadata": {
    "colab": {
      "provenance": [],
      "authorship_tag": "ABX9TyMyXzRjFCbm8tUZTOWrqcH2",
      "include_colab_link": true
    },
    "kernelspec": {
      "name": "python3",
      "display_name": "Python 3"
    },
    "language_info": {
      "name": "python"
    }
  },
  "cells": [
    {
      "cell_type": "markdown",
      "metadata": {
        "id": "view-in-github",
        "colab_type": "text"
      },
      "source": [
        "<a href=\"https://colab.research.google.com/github/angel-lar/Metodos-numericos/blob/main/newton.ipynb\" target=\"_parent\"><img src=\"https://colab.research.google.com/assets/colab-badge.svg\" alt=\"Open In Colab\"/></a>"
      ]
    },
    {
      "cell_type": "markdown",
      "source": [
        "$\\text{Metodo de Newton}$"
      ],
      "metadata": {
        "id": "hLrcEaKpsGZs"
      }
    },
    {
      "cell_type": "markdown",
      "source": [
        "$\\text{importamos librerias}$"
      ],
      "metadata": {
        "id": "uAGTDrIPsbz_"
      }
    },
    {
      "cell_type": "code",
      "source": [
        "import numpy as np\n",
        "from tabulate import tabulate"
      ],
      "metadata": {
        "id": "T456_a6otg-t"
      },
      "execution_count": 3,
      "outputs": []
    },
    {
      "cell_type": "markdown",
      "source": [
        "$\\text{definimos la funcion cuyos parametros son: f la funcion, d la derivada, p0 la aproximacion inicial, epsilon el error y N0 el numero maximo de iteraciones}$"
      ],
      "metadata": {
        "id": "P48iAfnOsiJM"
      }
    },
    {
      "cell_type": "code",
      "execution_count": 4,
      "metadata": {
        "id": "GszbSbVRrFCK"
      },
      "outputs": [],
      "source": [
        "def newton(f, d, p0, epsilon, N0):\n",
        "    i = 1  # Inicializamos el contador de iteraciones\n",
        "    table = []  # Lista para almacenar los resultados\n",
        "\n",
        "    while i <= N0:\n",
        "        # Calculamos la siguiente aproximación\n",
        "        p = p0 - f(p0) / d(p0)\n",
        "        error = abs(p - p0)  # Error\n",
        "\n",
        "        # Guardamos los resultados en la tabla\n",
        "        table.append([i, p0, p, error])\n",
        "\n",
        "        # Verificamos si el error es menor a epsilon\n",
        "        if error < epsilon:\n",
        "            print(\"\\nSolución aproximada encontrada:\\n\")\n",
        "            print(tabulate(table, headers=[\"Iteración\", \"p0\", \"p\", \"Error\"], tablefmt=\"grid\"))\n",
        "            return\n",
        "\n",
        "        # Actualizamos variables para la siguiente iteración\n",
        "        i += 1\n",
        "        p0 = p\n",
        "\n",
        "    # Si no se encuentra la solución dentro del número máximo de iteraciones\n",
        "    print(f\"\\nEl método falló después de {N0} iteraciones.\")\n",
        "    print(tabulate(table, headers=[\"Iteración\", \"p0\", \"p\", \"Error\"], tablefmt=\"grid\"))"
      ]
    },
    {
      "cell_type": "markdown",
      "source": [
        "$\\text{definimos la funcion e ingresamos su derivada manualmente}$"
      ],
      "metadata": {
        "id": "VSmXzCt5tvsO"
      }
    },
    {
      "cell_type": "code",
      "source": [
        "f = lambda x: np.cos(x) - x\n",
        "d = lambda x: -np.sin(x) - 1"
      ],
      "metadata": {
        "id": "ZD_6TWc-t7_-"
      },
      "execution_count": 5,
      "outputs": []
    },
    {
      "cell_type": "markdown",
      "source": [
        "$\\text{ingresamos los parametros iniciales}$"
      ],
      "metadata": {
        "id": "WDKShvdlt8cX"
      }
    },
    {
      "cell_type": "code",
      "source": [
        "p0 = 1.0  # Aproximación inicial\n",
        "epsilon = 1e-6  # tolerancia\n",
        "N0 = 20  # Máximo de iteraciones"
      ],
      "metadata": {
        "id": "_Ax34MZEuFGh"
      },
      "execution_count": 6,
      "outputs": []
    },
    {
      "cell_type": "markdown",
      "source": [
        "$\\text{y llamamos a la funcion para visualizar los resultados en la tabla}$"
      ],
      "metadata": {
        "id": "ZKdEBSgCuFVY"
      }
    },
    {
      "cell_type": "code",
      "source": [
        "newton(f, d, p0, epsilon, N0)\n"
      ],
      "metadata": {
        "colab": {
          "base_uri": "https://localhost:8080/"
        },
        "id": "EPQdydG4tvCT",
        "outputId": "395f79e3-8967-41ca-d9e4-d9ec03efb922"
      },
      "execution_count": 7,
      "outputs": [
        {
          "output_type": "stream",
          "name": "stdout",
          "text": [
            "\n",
            "Solución aproximada encontrada:\n",
            "\n",
            "+-------------+----------+----------+-------------+\n",
            "|   Iteración |       p0 |        p |       Error |\n",
            "+=============+==========+==========+=============+\n",
            "|           1 | 1        | 0.750364 | 0.249636    |\n",
            "+-------------+----------+----------+-------------+\n",
            "|           2 | 0.750364 | 0.739113 | 0.011251    |\n",
            "+-------------+----------+----------+-------------+\n",
            "|           3 | 0.739113 | 0.739085 | 2.77575e-05 |\n",
            "+-------------+----------+----------+-------------+\n",
            "|           4 | 0.739085 | 0.739085 | 1.70123e-10 |\n",
            "+-------------+----------+----------+-------------+\n"
          ]
        }
      ]
    }
  ]
}