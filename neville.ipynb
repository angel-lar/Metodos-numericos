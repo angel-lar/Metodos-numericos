{
  "nbformat": 4,
  "nbformat_minor": 0,
  "metadata": {
    "colab": {
      "provenance": [],
      "authorship_tag": "ABX9TyN3i87EDzacu++Svj4kTYU+",
      "include_colab_link": true
    },
    "kernelspec": {
      "name": "python3",
      "display_name": "Python 3"
    },
    "language_info": {
      "name": "python"
    }
  },
  "cells": [
    {
      "cell_type": "markdown",
      "metadata": {
        "id": "view-in-github",
        "colab_type": "text"
      },
      "source": [
        "<a href=\"https://colab.research.google.com/github/angel-lar/Metodos-numericos/blob/main/neville.ipynb\" target=\"_parent\"><img src=\"https://colab.research.google.com/assets/colab-badge.svg\" alt=\"Open In Colab\"/></a>"
      ]
    },
    {
      "cell_type": "markdown",
      "source": [
        "$\\textbf{Método de Neville}$"
      ],
      "metadata": {
        "id": "vEeLbvolihpX"
      }
    },
    {
      "cell_type": "markdown",
      "source": [
        "importamos librerias"
      ],
      "metadata": {
        "id": "d2Oehu-Ti4ef"
      }
    },
    {
      "cell_type": "code",
      "source": [
        "import numpy as np\n",
        "from tabulate import tabulate"
      ],
      "metadata": {
        "id": "dYD0Pn65igBu"
      },
      "execution_count": 14,
      "outputs": []
    },
    {
      "cell_type": "markdown",
      "source": [
        "$\\text{definimos la función donde los parametros serán: }$"
      ],
      "metadata": {
        "id": "QerFZRPVi8EN"
      }
    },
    {
      "cell_type": "markdown",
      "source": [
        "$\\text{x: la lista de puntos conocidos, y: sus valores repectivos de f(x), eval: el valor en el que se quiere evaluar el polinomio}$"
      ],
      "metadata": {
        "id": "_V5viUHYjNA0"
      }
    },
    {
      "cell_type": "code",
      "source": [
        "def neville(x, y, eval):\n",
        "    n = len(x)\n",
        "    Q = np.zeros((n, n))  # Creamos una matriz de n por n\n",
        "    Q[:, 0] = y      # Primera columna f(x_i)\n",
        "\n",
        "    # Aplicamos el algoritmo de Neville\n",
        "    for i in range(1, n):\n",
        "        for j in range(1, i + 1):\n",
        "            xi = x[i]\n",
        "            xij = x[i - j]\n",
        "            Q[i, j] = ((eval - xij) * Q[i, j - 1] - (eval - xi) * Q[i - 1, j - 1]) / (xi - xij)\n",
        "\n",
        "    return Q"
      ],
      "metadata": {
        "id": "7pm3A85-i7Ur"
      },
      "execution_count": 15,
      "outputs": []
    },
    {
      "cell_type": "markdown",
      "source": [
        "$\\text{metamos los datos del ejercicio 3.6 de la pagina 90}$"
      ],
      "metadata": {
        "id": "e456l01skTWw"
      }
    },
    {
      "cell_type": "code",
      "source": [
        "x = [1.0, 1.3, 1.6, 1.9, 2.2]\n",
        "y = [0.7651977, 0.6200860, 0.4554022, 0.2818186, 0.1103623]\n",
        "eval = 1.5"
      ],
      "metadata": {
        "id": "FjNknmQ8kp6z"
      },
      "execution_count": 16,
      "outputs": []
    },
    {
      "cell_type": "markdown",
      "source": [
        "$\\text{llamemos a la función:}$"
      ],
      "metadata": {
        "id": "r0JpYnSulC1-"
      }
    },
    {
      "cell_type": "code",
      "source": [
        "tabla = neville(x, y, eval)"
      ],
      "metadata": {
        "id": "QpXs1bEzkwkZ"
      },
      "execution_count": 17,
      "outputs": []
    },
    {
      "cell_type": "markdown",
      "source": [
        "$\\text{Preparamos los encabezados y filas para tabulate}$"
      ],
      "metadata": {
        "id": "hkaJDQ6hlTi-"
      }
    },
    {
      "cell_type": "code",
      "source": [
        "headers = [\"x\"] + [f\"Q{i},{j}\" for j in range(len(x)) for i in range(j, len(x))]"
      ],
      "metadata": {
        "id": "qgjRYU6xlbp-"
      },
      "execution_count": 18,
      "outputs": []
    },
    {
      "cell_type": "markdown",
      "source": [
        "$\\text{Solo nos quedamos con columnas válidas, triángulo inferior}$"
      ],
      "metadata": {
        "id": "_LFCEgBWl14Z"
      }
    },
    {
      "cell_type": "code",
      "execution_count": 21,
      "metadata": {
        "id": "L-AOZCuSiNBD"
      },
      "outputs": [],
      "source": [
        "tabla_formateada = []\n",
        "for i in range(len(x)):\n",
        "    fila = [x[i]] + [round(tabla[i, j], 7) if j <= i else \"\" for j in range(len(x))]\n",
        "    tabla_formateada.append(fila)"
      ]
    },
    {
      "cell_type": "markdown",
      "source": [
        "$\\text{Imprimimos}$"
      ],
      "metadata": {
        "id": "Fnob15vvmU96"
      }
    },
    {
      "cell_type": "code",
      "source": [
        "print(\"Tabla de Neville (interpolación en x = 1.5):\\n\")\n",
        "print(tabulate(tabla_formateada, headers=[\"x\"] + [f\"Q_{i}\" for i in range(len(x))], tablefmt=\"grid\"))\n"
      ],
      "metadata": {
        "colab": {
          "base_uri": "https://localhost:8080/"
        },
        "id": "9oMydwl_mVtI",
        "outputId": "3090a796-8459-4486-db32-37c52d39f0de"
      },
      "execution_count": 22,
      "outputs": [
        {
          "output_type": "stream",
          "name": "stdout",
          "text": [
            "Tabla de Neville (interpolación en x = 1.5):\n",
            "\n",
            "+-----+----------+-----------+-----------+-----------+---------+\n",
            "|   x |      Q_0 | Q_1       | Q_2       | Q_3       | Q_4     |\n",
            "+=====+==========+===========+===========+===========+=========+\n",
            "| 1   | 0.765198 |           |           |           |         |\n",
            "+-----+----------+-----------+-----------+-----------+---------+\n",
            "| 1.3 | 0.620086 | 0.5233449 |           |           |         |\n",
            "+-----+----------+-----------+-----------+-----------+---------+\n",
            "| 1.6 | 0.455402 | 0.5102968 | 0.5124715 |           |         |\n",
            "+-----+----------+-----------+-----------+-----------+---------+\n",
            "| 1.9 | 0.281819 | 0.5132634 | 0.5112857 | 0.5118127 |         |\n",
            "+-----+----------+-----------+-----------+-----------+---------+\n",
            "| 2.2 | 0.110362 | 0.510427  | 0.5137361 | 0.5118302 | 0.51182 |\n",
            "+-----+----------+-----------+-----------+-----------+---------+\n"
          ]
        }
      ]
    }
  ]
}