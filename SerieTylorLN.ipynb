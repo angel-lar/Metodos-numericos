{
  "nbformat": 4,
  "nbformat_minor": 0,
  "metadata": {
    "colab": {
      "provenance": [],
      "authorship_tag": "ABX9TyP+Dtfd47l69OJO8p3/EAme",
      "include_colab_link": true
    },
    "kernelspec": {
      "name": "python3",
      "display_name": "Python 3"
    },
    "language_info": {
      "name": "python"
    }
  },
  "cells": [
    {
      "cell_type": "markdown",
      "metadata": {
        "id": "view-in-github",
        "colab_type": "text"
      },
      "source": [
        "<a href=\"https://colab.research.google.com/github/angel-lar/Metodos-numericos/blob/main/SerieTylorLN.ipynb\" target=\"_parent\"><img src=\"https://colab.research.google.com/assets/colab-badge.svg\" alt=\"Open In Colab\"/></a>"
      ]
    },
    {
      "cell_type": "markdown",
      "source": [
        "$\\textbf{Serie de Taylor con Sympy}$"
      ],
      "metadata": {
        "id": "oEHdRKgd54KD"
      }
    },
    {
      "cell_type": "markdown",
      "source": [
        "$\\text{La serie de Taylor de \\( f(x) = \\ln(x) \\) centrada en \\( x = 1 \\) se define como:}$"
      ],
      "metadata": {
        "id": "z8xoww33E3qz"
      }
    },
    {
      "cell_type": "markdown",
      "source": [
        "$$\n",
        "f(x) = \\sum_{n=0}^{\\infty} \\frac{f^{(n)}(1)}{n!} (x - 1)^n\n",
        "$$"
      ],
      "metadata": {
        "id": "Qa8-vtrfE4ET"
      }
    },
    {
      "cell_type": "markdown",
      "source": [
        "$\\text{Calculamos las derivadas de \\( \\ln(x) \\) para expresar la serie de taylor de 4to orden:\n",
        "}$"
      ],
      "metadata": {
        "id": "hRNvorknFEbe"
      }
    },
    {
      "cell_type": "markdown",
      "source": [
        "\\begin{aligned}\n",
        "    f(x) &= \\ln(x) \\Rightarrow f(1) = 0 \\\\\n",
        "    f'(x) &= \\frac{1}{x} \\Rightarrow f'(1) = 1 \\\\\n",
        "    f''(x) &= -\\frac{1}{x^2} \\Rightarrow f''(1) = -1 \\\\\n",
        "    f'''(x) &= \\frac{2}{x^3} \\Rightarrow f'''(1) = 2 \\\\\n",
        "    f''''(x) &= -\\frac{6}{x^4} \\Rightarrow f''''(1) = -6\n",
        "\\end{aligned}"
      ],
      "metadata": {
        "id": "wl2AQjjpFEup"
      }
    },
    {
      "cell_type": "markdown",
      "source": [
        "$\\text{ generalizando vemos que la \\( n \\)-ésima derivada evaluada en \\( x = 1 \\) es:}$"
      ],
      "metadata": {
        "id": "AmaLqu_uE4Gr"
      }
    },
    {
      "cell_type": "markdown",
      "source": [
        "$$\n",
        "f^{(n)}(1) = (-1)^{n+1} (n-1)!\n",
        "$$"
      ],
      "metadata": {
        "id": "3V6qiad9FyPh"
      }
    },
    {
      "cell_type": "markdown",
      "source": [
        "$\\text{entonces sustituimos para simplificar nuestra serie de taylor y poderla programar más sencillo: }$"
      ],
      "metadata": {
        "id": "WsPxuzjLFyh_"
      }
    },
    {
      "cell_type": "markdown",
      "source": [
        "$$\n",
        "\\ln(x) = \\sum_{n=1}^{\\infty} (-1)^{n+1} \\frac{(n-1)!}{n!} (x - 1)^n\n",
        "$$\n"
      ],
      "metadata": {
        "id": "KgbHk7pZFykk"
      }
    },
    {
      "cell_type": "markdown",
      "source": [
        "$\\text{pero como \\( (n-1)! / n! = 1/n \\), no es necesario calcular factoriales y obtenemos la expresión: }$"
      ],
      "metadata": {
        "id": "DqsDzN6VFywT"
      }
    },
    {
      "cell_type": "markdown",
      "source": [
        "$$\n",
        "\\ln(x) = \\sum_{n=1}^{\\infty} (-1)^{n+1} \\frac{(x - 1)^n}{n}\n",
        "$$"
      ],
      "metadata": {
        "id": "R9CbyIt4E4OS"
      }
    },
    {
      "cell_type": "markdown",
      "source": [
        "$\\text{Expresión la cual ya es más sencilla de programar sin embargo con Sympy podemos evitarnos los calculos de la siguiente manera: }$"
      ],
      "metadata": {
        "id": "xPocNXpl1XCp"
      }
    },
    {
      "cell_type": "markdown",
      "source": [
        "$\\text{Importamos las librerias}$"
      ],
      "metadata": {
        "id": "ulTUaxiUGpHy"
      }
    },
    {
      "cell_type": "code",
      "source": [
        "import sympy as sp\n",
        "import numpy as np\n",
        "import matplotlib.pyplot as plt"
      ],
      "metadata": {
        "id": "Asxys7Ff1Tvv"
      },
      "execution_count": 2,
      "outputs": []
    },
    {
      "cell_type": "markdown",
      "source": [
        "$\\text{Definimos }x\\text{ como un simbolo, }f\\text{ como la función }ln(x)\\text{ y }x_0\\text{ como el punto en el que evaluaremos la serie de taylor}$"
      ],
      "metadata": {
        "id": "W6sa8-v51YVN"
      }
    },
    {
      "cell_type": "code",
      "source": [
        "x = sp.Symbol('x')\n",
        "f = sp.ln(x)\n",
        "x0 = 1"
      ],
      "metadata": {
        "id": "f9u12mn91Y6t"
      },
      "execution_count": 9,
      "outputs": []
    },
    {
      "cell_type": "markdown",
      "source": [
        "$\\text{y en }sp.series()\\text{ pasamos como parametro la funcion }f\\text{ el simbolo }x\\text{ el punto a evaluar }x_0\\text{ y el grado }n\\text{ de la serie de taylor}$"
      ],
      "metadata": {
        "id": "sbebFzCt1bb6"
      }
    },
    {
      "cell_type": "markdown",
      "source": [
        "$\\text{además con }.remove0()\\text{ eliminamos el polinomio de error}$"
      ],
      "metadata": {
        "id": "0KQzswwH_7OP"
      }
    },
    {
      "cell_type": "code",
      "source": [
        "taylor_series = sp.series(f, x, x0, n=5).removeO()"
      ],
      "metadata": {
        "id": "zeNI9iPU1buI"
      },
      "execution_count": 10,
      "outputs": []
    },
    {
      "cell_type": "markdown",
      "source": [
        "$\\text{Convertimos la serie de taylor en una función evaluable de numpy}$"
      ],
      "metadata": {
        "id": "XDzUTIRH1gKw"
      }
    },
    {
      "cell_type": "code",
      "source": [
        "taylor_func = sp.lambdify(x, taylor_series, 'numpy')"
      ],
      "metadata": {
        "id": "JwaUuM4x1gaI"
      },
      "execution_count": 14,
      "outputs": []
    },
    {
      "cell_type": "markdown",
      "source": [
        "$\\text{ahora creamos los valores para graficar}$"
      ],
      "metadata": {
        "id": "kQF84TBZ1lnN"
      }
    },
    {
      "cell_type": "code",
      "source": [
        "x_vals = np.linspace(0.1, 2, 400)  # partimos el eje x en 400 puntos en el intervalo [0.1, 2]\n",
        "y_vals = np.log(x_vals)  # Valores de ln(x)\n",
        "y_taylor_vals = taylor_func(x_vals)  # Valores de la aproximación"
      ],
      "metadata": {
        "id": "Fra7QBgS1l5r"
      },
      "execution_count": 15,
      "outputs": []
    },
    {
      "cell_type": "markdown",
      "source": [
        "$\\text{ahora usamos matplotlib para graficar}$"
      ],
      "metadata": {
        "id": "3JgRh0571qLp"
      }
    },
    {
      "cell_type": "code",
      "source": [
        "plt.figure(figsize=(8, 5))#creamos una figura de 8x5\n",
        "plt.plot(x_vals, y_vals, label='ln(x)', color='blue')#como X ponemos el intervalo que dividimos y como Y los valores de ln(x)\n",
        "plt.plot(x_vals, y_taylor_vals, label='Taylor 4° orden', linestyle='dashed', color='red')#sobreponemos otra grafica pero con Y=la serie de taylor\n",
        "#y lo ponemos en estilo dashed o \"--\" para distinguir la grafica en donde se juntan ambos colores\n",
        "plt.scatter(x0, np.log(x0), color='black', label='Punto de expansión') #dibujamos un punto en (x0, ln(x0)) que será nuerstro punto de expansión\n",
        "#agregamos etiquetas y mostramos la grafica\n",
        "plt.title(\"Aproximación de Taylor de ln(x) en x0=1\")\n",
        "plt.xlabel(\"x\")\n",
        "plt.ylabel(\"f(x)\")\n",
        "plt.legend()\n",
        "plt.grid()\n",
        "plt.show()"
      ],
      "metadata": {
        "colab": {
          "base_uri": "https://localhost:8080/",
          "height": 488
        },
        "id": "Ciq8kcoP1qXG",
        "outputId": "de286e1b-eec4-4ed9-fc88-f0d9626e0d93"
      },
      "execution_count": 16,
      "outputs": [
        {
          "output_type": "display_data",
          "data": {
            "text/plain": [
              "<Figure size 800x500 with 1 Axes>"
            ],
            "image/png": "[encoded data removed]"
          },
          "metadata": {}
        }
      ]
    },
    {
      "cell_type": "markdown",
      "source": [
        "$\\text{Luego utilizamos la funcion }sp.pprint()\\text{ para imprimir el resultado de la serie de talor en notación matemática}$"
      ],
      "metadata": {
        "id": "t-i2k43V1rDO"
      }
    },
    {
      "cell_type": "code",
      "source": [
        "sp.pprint(taylor_series)"
      ],
      "metadata": {
        "colab": {
          "base_uri": "https://localhost:8080/"
        },
        "id": "-qC3M4Qx1rgi",
        "outputId": "7a5b32f2-703d-429c-c058-381a97ff33fa"
      },
      "execution_count": 8,
      "outputs": [
        {
          "output_type": "stream",
          "name": "stdout",
          "text": [
            "           4          3          2    \n",
            "    (x - 1)    (x - 1)    (x - 1)     \n",
            "x - ──────── + ──────── - ──────── - 1\n",
            "       4          3          2        \n"
          ]
        }
      ]
    }
  ]
}