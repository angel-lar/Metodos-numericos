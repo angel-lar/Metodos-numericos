{
  "nbformat": 4,
  "nbformat_minor": 0,
  "metadata": {
    "colab": {
      "provenance": [],
      "authorship_tag": "ABX9TyM8waoouNceJ9LjOtFKfpSE",
      "include_colab_link": true
    },
    "kernelspec": {
      "name": "python3",
      "display_name": "Python 3"
    },
    "language_info": {
      "name": "python"
    }
  },
  "cells": [
    {
      "cell_type": "markdown",
      "metadata": {
        "id": "view-in-github",
        "colab_type": "text"
      },
      "source": [
        "<a href=\"https://colab.research.google.com/github/angel-lar/Metodos-numericos/blob/main/hermite.ipynb\" target=\"_parent\"><img src=\"https://colab.research.google.com/assets/colab-badge.svg\" alt=\"Open In Colab\"/></a>"
      ]
    },
    {
      "cell_type": "markdown",
      "source": [
        "$\\textbf{Polinomios de Hermite}$"
      ],
      "metadata": {
        "id": "vEeLbvolihpX"
      }
    },
    {
      "cell_type": "markdown",
      "source": [
        "importamos librerias"
      ],
      "metadata": {
        "id": "d2Oehu-Ti4ef"
      }
    },
    {
      "cell_type": "code",
      "source": [
        "import numpy as np\n",
        "from tabulate import tabulate"
      ],
      "metadata": {
        "id": "dYD0Pn65igBu"
      },
      "execution_count": 14,
      "outputs": []
    },
    {
      "cell_type": "markdown",
      "source": [
        "$\\text{definimos la función donde los parametros serán: }$"
      ],
      "metadata": {
        "id": "QerFZRPVi8EN"
      }
    },
    {
      "cell_type": "markdown",
      "source": [
        "$\\text{x: la lista de puntos conocidos, fx: sus valores repectivos de f(x), dfx: la lista de las derivadas de cada f evaluadas en xi}$"
      ],
      "metadata": {
        "id": "_V5viUHYjNA0"
      }
    },
    {
      "cell_type": "code",
      "source": [
        "def hermite(x, fx, dfx):\n",
        "  n=len(x)\n",
        "  z=[0]*(2*n)\n",
        "  Q=[[0 for _ in range(2*n)] for _ in range(2*n)]\n",
        "\n",
        "  #ahora inicializamos z, Q[i][0] y Q[i][1]\n",
        "  for i in range(n):\n",
        "    z[2*i]=z[2*i+1]=x[i]\n",
        "    Q[2*i][0]=fx[i]\n",
        "    Q[2*i+1][0]=fx[i]\n",
        "    Q[2*i+1][1]=dfx[i]\n",
        "\n",
        "    if i!=0:\n",
        "      Q[2*i][1]=(Q[2*i][0]-Q[2*i-1][0])/(z[2*i]-z[2*i-1])\n",
        "    else:\n",
        "      Q[0][1]=dfx[0];\n",
        "  #luego calculamos las diferencias divididas\n",
        "  for i in range(2, 2*n):\n",
        "    for j in range(2, i+1):\n",
        "      Q[i][j] = (Q[i][j-1] - Q[i-1][j-1]) / (z[i] - z[i-j])\n",
        "\n",
        "  return z, Q"
      ],
      "metadata": {
        "id": "7pm3A85-i7Ur"
      },
      "execution_count": 3,
      "outputs": []
    },
    {
      "cell_type": "markdown",
      "source": [],
      "metadata": {
        "id": "YHPhqvR2d7r6"
      }
    },
    {
      "cell_type": "markdown",
      "source": [
        "$\\text{metamos los datos del ejercicio 3.15 de la pagina 101}$"
      ],
      "metadata": {
        "id": "e456l01skTWw"
      }
    },
    {
      "cell_type": "code",
      "source": [
        "x = [1.3, 1.6, 1.9]\n",
        "fx = [0.6200860, 0.4554022, 0.2818186]\n",
        "dfx = [-0.5220232, -0.5698959, -0.5811571]"
      ],
      "metadata": {
        "id": "FjNknmQ8kp6z"
      },
      "execution_count": 4,
      "outputs": []
    },
    {
      "cell_type": "markdown",
      "source": [
        "$\\text{llamemos a la función:}$"
      ],
      "metadata": {
        "id": "r0JpYnSulC1-"
      }
    },
    {
      "cell_type": "code",
      "source": [
        "z, Q = hermite(x, fx, dfx)"
      ],
      "metadata": {
        "id": "QpXs1bEzkwkZ"
      },
      "execution_count": 5,
      "outputs": []
    },
    {
      "cell_type": "markdown",
      "source": [
        "$\\text{para imprimir la tabla guardamos solo las columnas realmenta usadas}$"
      ],
      "metadata": {
        "id": "hkaJDQ6hlTi-"
      }
    },
    {
      "cell_type": "code",
      "source": [
        "columnas = max(i + 1 for i in range(len(Q)))  # longitud de cada fila utilizada\n",
        "headers = [\"z\"] + [f\"Q[i][{j}]\" for j in range(columnas)]\n",
        "tabla = []"
      ],
      "metadata": {
        "id": "qgjRYU6xlbp-"
      },
      "execution_count": 17,
      "outputs": []
    },
    {
      "cell_type": "markdown",
      "source": [
        "$\\text{recorremos todo para poder imprimirlo}$"
      ],
      "metadata": {
        "id": "F1jgrrN6qEoY"
      }
    },
    {
      "cell_type": "code",
      "source": [
        "for i in range(len(z)):\n",
        "    row = [f\"{z[i]:.4f}\"]\n",
        "    for j in range(i + 1):  # solo imprimir hasta la diagonal\n",
        "        row.append(f\"{Q[i][j]:.7f}\")\n",
        "    tabla.append(row)"
      ],
      "metadata": {
        "id": "ljROlTPKqFYg"
      },
      "execution_count": 23,
      "outputs": []
    },
    {
      "cell_type": "markdown",
      "source": [
        "$\\text{Imprimimos}$"
      ],
      "metadata": {
        "id": "Fnob15vvmU96"
      }
    },
    {
      "cell_type": "code",
      "source": [
        "print(tabulate(tabla, headers=headers, tablefmt=\"grid\"))"
      ],
      "metadata": {
        "colab": {
          "base_uri": "https://localhost:8080/"
        },
        "id": "9oMydwl_mVtI",
        "outputId": "38d1fe70-6e0d-4b69-ee02-915a4547de4d"
      },
      "execution_count": 25,
      "outputs": [
        {
          "output_type": "stream",
          "name": "stdout",
          "text": [
            "+-----+-----------+-----------+------------+-----------+-----------+------------+\n",
            "|   z |   Q[i][0] |   Q[i][1] |    Q[i][2] |   Q[i][3] |   Q[i][4] |    Q[i][5] |\n",
            "+=====+===========+===========+============+===========+===========+============+\n",
            "| 1.3 |  0.620086 |           |            |           |           |            |\n",
            "+-----+-----------+-----------+------------+-----------+-----------+------------+\n",
            "| 1.3 |  0.620086 | -0.522023 |            |           |           |            |\n",
            "+-----+-----------+-----------+------------+-----------+-----------+------------+\n",
            "| 1.6 |  0.455402 | -0.548946 | -0.0897427 |           |           |            |\n",
            "+-----+-----------+-----------+------------+-----------+-----------+------------+\n",
            "| 1.6 |  0.455402 | -0.569896 | -0.069833  | 0.0663656 |           |            |\n",
            "+-----+-----------+-----------+------------+-----------+-----------+------------+\n",
            "| 1.9 |  0.281819 | -0.578612 | -0.0290537 | 0.0679656 | 0.0026667 |            |\n",
            "+-----+-----------+-----------+------------+-----------+-----------+------------+\n",
            "| 1.9 |  0.281819 | -0.581157 | -0.0084837 | 0.0685667 | 0.0010019 | -0.0027747 |\n",
            "+-----+-----------+-----------+------------+-----------+-----------+------------+\n",
            "| 1.3 |  0.620086 |           |            |           |           |            |\n",
            "+-----+-----------+-----------+------------+-----------+-----------+------------+\n",
            "| 1.3 |  0.620086 | -0.522023 |            |           |           |            |\n",
            "+-----+-----------+-----------+------------+-----------+-----------+------------+\n",
            "| 1.6 |  0.455402 | -0.548946 | -0.0897427 |           |           |            |\n",
            "+-----+-----------+-----------+------------+-----------+-----------+------------+\n",
            "| 1.6 |  0.455402 | -0.569896 | -0.069833  | 0.0663656 |           |            |\n",
            "+-----+-----------+-----------+------------+-----------+-----------+------------+\n",
            "| 1.9 |  0.281819 | -0.578612 | -0.0290537 | 0.0679656 | 0.0026667 |            |\n",
            "+-----+-----------+-----------+------------+-----------+-----------+------------+\n",
            "| 1.9 |  0.281819 | -0.581157 | -0.0084837 | 0.0685667 | 0.0010019 | -0.0027747 |\n",
            "+-----+-----------+-----------+------------+-----------+-----------+------------+\n",
            "| 1.3 |  0.620086 |           |            |           |           |            |\n",
            "+-----+-----------+-----------+------------+-----------+-----------+------------+\n",
            "| 1.3 |  0.620086 | -0.522023 |            |           |           |            |\n",
            "+-----+-----------+-----------+------------+-----------+-----------+------------+\n",
            "| 1.6 |  0.455402 | -0.548946 | -0.0897427 |           |           |            |\n",
            "+-----+-----------+-----------+------------+-----------+-----------+------------+\n",
            "| 1.6 |  0.455402 | -0.569896 | -0.069833  | 0.0663656 |           |            |\n",
            "+-----+-----------+-----------+------------+-----------+-----------+------------+\n",
            "| 1.9 |  0.281819 | -0.578612 | -0.0290537 | 0.0679656 | 0.0026667 |            |\n",
            "+-----+-----------+-----------+------------+-----------+-----------+------------+\n",
            "| 1.9 |  0.281819 | -0.581157 | -0.0084837 | 0.0685667 | 0.0010019 | -0.0027747 |\n",
            "+-----+-----------+-----------+------------+-----------+-----------+------------+\n"
          ]
        }
      ]
    }
  ]
}