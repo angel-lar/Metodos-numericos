{
  "nbformat": 4,
  "nbformat_minor": 0,
  "metadata": {
    "colab": {
      "provenance": [],
      "authorship_tag": "ABX9TyNxycGI/nnDgfya7+27/d/3",
      "include_colab_link": true
    },
    "kernelspec": {
      "name": "python3",
      "display_name": "Python 3"
    },
    "language_info": {
      "name": "python"
    }
  },
  "cells": [
    {
      "cell_type": "markdown",
      "metadata": {
        "id": "view-in-github",
        "colab_type": "text"
      },
      "source": [
        "<a href=\"https://colab.research.google.com/github/angel-lar/Metodos-numericos/blob/main/secante.ipynb\" target=\"_parent\"><img src=\"https://colab.research.google.com/assets/colab-badge.svg\" alt=\"Open In Colab\"/></a>"
      ]
    },
    {
      "cell_type": "markdown",
      "source": [
        "$\\text{Metodo de la secante}$"
      ],
      "metadata": {
        "id": "hLrcEaKpsGZs"
      }
    },
    {
      "cell_type": "markdown",
      "source": [
        "$\\text{importamos librerias}$"
      ],
      "metadata": {
        "id": "uAGTDrIPsbz_"
      }
    },
    {
      "cell_type": "code",
      "source": [
        "import numpy as np\n",
        "from tabulate import tabulate"
      ],
      "metadata": {
        "id": "T456_a6otg-t"
      },
      "execution_count": 5,
      "outputs": []
    },
    {
      "cell_type": "markdown",
      "source": [
        "$\\text{definimos la funcion cuyos parametros son: f la funcion, d la derivada, p0 la aproximacion izquierda, p1 la aproximacion derecha, epsilon el error y N0 el numero maximo de iteraciones}$"
      ],
      "metadata": {
        "id": "P48iAfnOsiJM"
      }
    },
    {
      "cell_type": "code",
      "execution_count": 6,
      "metadata": {
        "id": "GszbSbVRrFCK"
      },
      "outputs": [],
      "source": [
        "def secante(f, p0, p1, epsilon, N0):\n",
        "    i = 2  # Inicializamos el contador de iteraciones en 2\n",
        "    q0 = f(p0)\n",
        "    q1 = f(p1)\n",
        "    table = []  # Lista para almacenar los resultados\n",
        "\n",
        "    while i <= N0:\n",
        "        # Calculamos la siguiente aproximación utilizando la fórmula de la secante\n",
        "        p = p1 - q1 * (p1 - p0) / (q1 - q0)\n",
        "        error = abs(p - p1)  # Error\n",
        "\n",
        "        # Guardamos los resultados en la tabla\n",
        "        table.append([i, p0, p1, p, error])\n",
        "\n",
        "        # Verificamos si el error es menor a epsilon\n",
        "        if error < epsilon:\n",
        "            print(\"\\nSolución aproximada encontrada:\\n\")\n",
        "            print(tabulate(table, headers=[\"Iteración\", \"p0\", \"p1\", \"p\", \"Error\"], tablefmt=\"grid\"))\n",
        "            return\n",
        "\n",
        "        # Actualizamos variables para la siguiente iteración\n",
        "        i += 1\n",
        "        p0, q0 = p1, q1\n",
        "        p1, q1 = p, f(p)\n",
        "\n",
        "    # Si no se encuentra la solución dentro del número máximo de iteraciones que termine\n",
        "    print(f\"\\nEl método falló después de {N0} iteraciones.\")\n",
        "    print(tabulate(table, headers=[\"Iteración\", \"p0\", \"p1\", \"p\", \"Error\"], tablefmt=\"grid\"))"
      ]
    },
    {
      "cell_type": "markdown",
      "source": [
        "$\\text{definimos la funcion}$"
      ],
      "metadata": {
        "id": "VSmXzCt5tvsO"
      }
    },
    {
      "cell_type": "code",
      "source": [
        "f = lambda x: np.cos(x) - x"
      ],
      "metadata": {
        "id": "ZD_6TWc-t7_-"
      },
      "execution_count": 7,
      "outputs": []
    },
    {
      "cell_type": "markdown",
      "source": [
        "$\\text{ingresamos los parametros iniciales}$"
      ],
      "metadata": {
        "id": "WDKShvdlt8cX"
      }
    },
    {
      "cell_type": "code",
      "source": [
        "p0 = 0.5  # Primera aproximación inicial\n",
        "p1 = 1.0  # Segunda aproximación inicial\n",
        "epsilon = 1e-6  # epsilonerancia\n",
        "N0 = 20  # Máximo de iteraciones"
      ],
      "metadata": {
        "id": "_Ax34MZEuFGh"
      },
      "execution_count": 8,
      "outputs": []
    },
    {
      "cell_type": "markdown",
      "source": [
        "$\\text{y llamamos a la funcion para visualizar los resultados en la tabla}$"
      ],
      "metadata": {
        "id": "ZKdEBSgCuFVY"
      }
    },
    {
      "cell_type": "code",
      "source": [
        "secante(f, p0, p1, epsilon, N0)"
      ],
      "metadata": {
        "colab": {
          "base_uri": "https://localhost:8080/"
        },
        "id": "EPQdydG4tvCT",
        "outputId": "55f224a9-4eb6-4b67-8682-61c3f914bad2"
      },
      "execution_count": 9,
      "outputs": [
        {
          "output_type": "stream",
          "name": "stdout",
          "text": [
            "\n",
            "Solución aproximada encontrada:\n",
            "\n",
            "+-------------+----------+----------+----------+-------------+\n",
            "|   Iteración |       p0 |       p1 |        p |       Error |\n",
            "+=============+==========+==========+==========+=============+\n",
            "|           2 | 0.5      | 1        | 0.725482 | 0.274518    |\n",
            "+-------------+----------+----------+----------+-------------+\n",
            "|           3 | 1        | 0.725482 | 0.738399 | 0.012917    |\n",
            "+-------------+----------+----------+----------+-------------+\n",
            "|           4 | 0.725482 | 0.738399 | 0.739087 | 0.000688591 |\n",
            "+-------------+----------+----------+----------+-------------+\n",
            "|           5 | 0.738399 | 0.739087 | 0.739085 | 2.07792e-06 |\n",
            "+-------------+----------+----------+----------+-------------+\n",
            "|           6 | 0.739087 | 0.739085 | 0.739085 | 3.15048e-10 |\n",
            "+-------------+----------+----------+----------+-------------+\n"
          ]
        }
      ]
    }
  ]
}