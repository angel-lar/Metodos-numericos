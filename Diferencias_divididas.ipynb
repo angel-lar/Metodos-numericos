{
  "nbformat": 4,
  "nbformat_minor": 0,
  "metadata": {
    "colab": {
      "provenance": [],
      "authorship_tag": "ABX9TyPY1YJ5AXGiuUoCDXdd6Rgq",
      "include_colab_link": true
    },
    "kernelspec": {
      "name": "python3",
      "display_name": "Python 3"
    },
    "language_info": {
      "name": "python"
    }
  },
  "cells": [
    {
      "cell_type": "markdown",
      "metadata": {
        "id": "view-in-github",
        "colab_type": "text"
      },
      "source": [
        "<a href=\"https://colab.research.google.com/github/angel-lar/Metodos-numericos/blob/main/Diferencias_divididas.ipynb\" target=\"_parent\"><img src=\"https://colab.research.google.com/assets/colab-badge.svg\" alt=\"Open In Colab\"/></a>"
      ]
    },
    {
      "cell_type": "markdown",
      "source": [
        "$\\textbf{Diferencias dividas de Newton}$"
      ],
      "metadata": {
        "id": "vEeLbvolihpX"
      }
    },
    {
      "cell_type": "markdown",
      "source": [
        "importamos librerias"
      ],
      "metadata": {
        "id": "d2Oehu-Ti4ef"
      }
    },
    {
      "cell_type": "code",
      "source": [
        "import numpy as np\n",
        "from tabulate import tabulate"
      ],
      "metadata": {
        "id": "dYD0Pn65igBu"
      },
      "execution_count": 11,
      "outputs": []
    },
    {
      "cell_type": "markdown",
      "source": [
        "$\\text{definimos la función donde los parametros serán: }$"
      ],
      "metadata": {
        "id": "QerFZRPVi8EN"
      }
    },
    {
      "cell_type": "markdown",
      "source": [
        "$\\text{x: la lista de puntos conocidos, y: sus valores repectivos de f(x)}$"
      ],
      "metadata": {
        "id": "_V5viUHYjNA0"
      }
    },
    {
      "cell_type": "code",
      "source": [
        "def DDN(x, y):\n",
        "    n = len(x)\n",
        "    tabla = np.zeros((n, n))\n",
        "    tabla[:, 0] = y  # Primera columna: f(x_i)\n",
        "\n",
        "    # Paso 1 del algoritmo\n",
        "    for i in range(1, n):           # i representa la columna\n",
        "        for j in range(i, n):       # j representa la fila\n",
        "            numerador = tabla[j][i - 1] - tabla[j - 1][i - 1]\n",
        "            denominador = x[j] - x[j - i]\n",
        "            tabla[j][i] = numerador / denominador\n",
        "\n",
        "    return tabla"
      ],
      "metadata": {
        "id": "7pm3A85-i7Ur"
      },
      "execution_count": 12,
      "outputs": []
    },
    {
      "cell_type": "markdown",
      "source": [
        "$\\text{metamos los datos del ejercicio 3.6 de la pagina 90}$"
      ],
      "metadata": {
        "id": "e456l01skTWw"
      }
    },
    {
      "cell_type": "code",
      "source": [
        "x = [1.0, 1.3, 1.6, 1.9, 2.2]\n",
        "y = [0.7651977, 0.6200860, 0.4554022, 0.2818186, 0.1103623]"
      ],
      "metadata": {
        "id": "FjNknmQ8kp6z"
      },
      "execution_count": 13,
      "outputs": []
    },
    {
      "cell_type": "markdown",
      "source": [
        "$\\text{llamemos a la función:}$"
      ],
      "metadata": {
        "id": "r0JpYnSulC1-"
      }
    },
    {
      "cell_type": "code",
      "source": [
        "tabla = DDN(x, y)"
      ],
      "metadata": {
        "id": "QpXs1bEzkwkZ"
      },
      "execution_count": 14,
      "outputs": []
    },
    {
      "cell_type": "markdown",
      "source": [
        "$\\text{Formateamos la tabla para imprimir solo los valores válidos}$"
      ],
      "metadata": {
        "id": "hkaJDQ6hlTi-"
      }
    },
    {
      "cell_type": "code",
      "source": [
        "formateada = []\n",
        "for i in range(len(x)):\n",
        "    fila = [x[i]] + [round(tabla[i][j], 7) if j <= i else \"\" for j in range(len(x))] #coloca una celda vacía cuando aún no hay un valor válido calculado en esa posición de la tabla.\n",
        "    formateada.append(fila)"
      ],
      "metadata": {
        "id": "qgjRYU6xlbp-"
      },
      "execution_count": 15,
      "outputs": []
    },
    {
      "cell_type": "markdown",
      "source": [
        "$\\text{usamos el mismo encabezado y filas que en el programa anterior}$"
      ],
      "metadata": {
        "id": "F1jgrrN6qEoY"
      }
    },
    {
      "cell_type": "code",
      "source": [
        "headers = [\"x\"] + [f\"F_{j}\" for j in range(len(x))]"
      ],
      "metadata": {
        "id": "ljROlTPKqFYg"
      },
      "execution_count": 16,
      "outputs": []
    },
    {
      "cell_type": "markdown",
      "source": [
        "$\\text{Imprimimos}$"
      ],
      "metadata": {
        "id": "Fnob15vvmU96"
      }
    },
    {
      "cell_type": "code",
      "source": [
        "print(\"Tabla de Diferencias Divididas de Newton:\\n\")\n",
        "print(tabulate(formateada, headers=headers, tablefmt=\"grid\"))"
      ],
      "metadata": {
        "colab": {
          "base_uri": "https://localhost:8080/"
        },
        "id": "9oMydwl_mVtI",
        "outputId": "27eebcfa-7fbe-4c5d-90bd-6a3a3a89a428"
      },
      "execution_count": 17,
      "outputs": [
        {
          "output_type": "stream",
          "name": "stdout",
          "text": [
            "Tabla de Diferencias Divididas de Newton:\n",
            "\n",
            "+-----+----------+------------+------------+-----------+-----------+\n",
            "|   x |      F_0 | F_1        | F_2        | F_3       | F_4       |\n",
            "+=====+==========+============+============+===========+===========+\n",
            "| 1   | 0.765198 |            |            |           |           |\n",
            "+-----+----------+------------+------------+-----------+-----------+\n",
            "| 1.3 | 0.620086 | -0.4837057 |            |           |           |\n",
            "+-----+----------+------------+------------+-----------+-----------+\n",
            "| 1.6 | 0.455402 | -0.548946  | -0.1087339 |           |           |\n",
            "+-----+----------+------------+------------+-----------+-----------+\n",
            "| 1.9 | 0.281819 | -0.578612  | -0.0494433 | 0.0658784 |           |\n",
            "+-----+----------+------------+------------+-----------+-----------+\n",
            "| 2.2 | 0.110362 | -0.571521  | 0.0118183  | 0.0680685 | 0.0018251 |\n",
            "+-----+----------+------------+------------+-----------+-----------+\n"
          ]
        }
      ]
    }
  ]
}