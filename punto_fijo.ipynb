{
  "nbformat": 4,
  "nbformat_minor": 0,
  "metadata": {
    "colab": {
      "provenance": [],
      "authorship_tag": "ABX9TyMV0udcQ0Ov3hFN/DqjrwjJ",
      "include_colab_link": true
    },
    "kernelspec": {
      "name": "python3",
      "display_name": "Python 3"
    },
    "language_info": {
      "name": "python"
    }
  },
  "cells": [
    {
      "cell_type": "markdown",
      "metadata": {
        "id": "view-in-github",
        "colab_type": "text"
      },
      "source": [
        "<a href=\"https://colab.research.google.com/github/angel-lar/Metodos-numericos/blob/main/punto_fijo.ipynb\" target=\"_parent\"><img src=\"https://colab.research.google.com/assets/colab-badge.svg\" alt=\"Open In Colab\"/></a>"
      ]
    },
    {
      "cell_type": "markdown",
      "source": [
        "$\\text{Metodo del punto fijo}$"
      ],
      "metadata": {
        "id": "hLrcEaKpsGZs"
      }
    },
    {
      "cell_type": "markdown",
      "source": [
        "$\\text{importamos librerias}$"
      ],
      "metadata": {
        "id": "uAGTDrIPsbz_"
      }
    },
    {
      "cell_type": "code",
      "source": [
        "import numpy as np\n",
        "from tabulate import tabulate"
      ],
      "metadata": {
        "id": "T456_a6otg-t"
      },
      "execution_count": 1,
      "outputs": []
    },
    {
      "cell_type": "markdown",
      "source": [
        "$\\text{definimos la funcion cuyos parametros son: g la funcion iterativa, p0 la aproximacion inicial, epsilon el error y N0 el numero maximo de iteraciones}$"
      ],
      "metadata": {
        "id": "P48iAfnOsiJM"
      }
    },
    {
      "cell_type": "code",
      "execution_count": 2,
      "metadata": {
        "id": "GszbSbVRrFCK"
      },
      "outputs": [],
      "source": [
        "def puntoFijo(g, p0, epsilon, N0):\n",
        "    # Encabezado de la tabla de resultados\n",
        "    table = []\n",
        "\n",
        "    for i in range(1, N0 + 1):\n",
        "        p = g(p0)  # Calcula la nueva aproximación\n",
        "        error = abs(p - p0)  # Error estimado\n",
        "        table.append([i, p0, p, error])\n",
        "\n",
        "        if error < epsilon:\n",
        "            print(\"El metodo funciono correctamente.\")\n",
        "            print(tabulate(table, headers=[\"Iteración\", \"p0\", \"p\", \"Error\"], tablefmt=\"grid\"))\n",
        "            return p\n",
        "\n",
        "        p0 = p  # Actualiza p0 para la siguiente iteración\n",
        "\n",
        "    # Si no se alcanza la tolerancia en las n iteraciones q termine\n",
        "    print(f\"El método falló después de {N0} iteraciones.\")\n",
        "    print(tabulate(table, headers=[\"Iteración\", \"p0\", \"p\", \"Error\"], tablefmt=\"grid\"))\n",
        "    return None\n"
      ]
    },
    {
      "cell_type": "markdown",
      "source": [
        "$\\text{definimos la funcion para terminos de }x$"
      ],
      "metadata": {
        "id": "VSmXzCt5tvsO"
      }
    },
    {
      "cell_type": "code",
      "source": [
        "def g4(x):\n",
        "    return np.sqrt(10 / (4 + x))"
      ],
      "metadata": {
        "id": "ZD_6TWc-t7_-"
      },
      "execution_count": 3,
      "outputs": []
    },
    {
      "cell_type": "markdown",
      "source": [
        "$\\text{ingresamos los parametros iniciales}$"
      ],
      "metadata": {
        "id": "WDKShvdlt8cX"
      }
    },
    {
      "cell_type": "code",
      "source": [
        "p0 = 1.5   # Aproximación inicial\n",
        "epsilon = 1e-5  # epsilonerancia\n",
        "N0 = 20    # Número máximo de iteraciones"
      ],
      "metadata": {
        "id": "_Ax34MZEuFGh"
      },
      "execution_count": 6,
      "outputs": []
    },
    {
      "cell_type": "markdown",
      "source": [
        "$\\text{y llamamos a la funcion para visualizar los resultados en la tabla}$"
      ],
      "metadata": {
        "id": "ZKdEBSgCuFVY"
      }
    },
    {
      "cell_type": "code",
      "source": [
        "puntoFijo(g4, p0, epsilon, N0)"
      ],
      "metadata": {
        "colab": {
          "base_uri": "https://localhost:8080/"
        },
        "id": "EPQdydG4tvCT",
        "outputId": "e9f5054e-9c58-4d34-c444-acb88dda1c50"
      },
      "execution_count": 7,
      "outputs": [
        {
          "output_type": "stream",
          "name": "stdout",
          "text": [
            "El metodo funciono correctamente.\n",
            "+-------------+---------+---------+-------------+\n",
            "|   Iteración |      p0 |       p |       Error |\n",
            "+=============+=========+=========+=============+\n",
            "|           1 | 1.5     | 1.3484  | 0.1516      |\n",
            "+-------------+---------+---------+-------------+\n",
            "|           2 | 1.3484  | 1.36738 | 0.0189766   |\n",
            "+-------------+---------+---------+-------------+\n",
            "|           3 | 1.36738 | 1.36496 | 0.00241936  |\n",
            "+-------------+---------+---------+-------------+\n",
            "|           4 | 1.36496 | 1.36526 | 0.000307733 |\n",
            "+-------------+---------+---------+-------------+\n",
            "|           5 | 1.36526 | 1.36523 | 3.9154e-05  |\n",
            "+-------------+---------+---------+-------------+\n",
            "|           6 | 1.36523 | 1.36523 | 4.98151e-06 |\n",
            "+-------------+---------+---------+-------------+\n"
          ]
        },
        {
          "output_type": "execute_result",
          "data": {
            "text/plain": [
              "np.float64(1.3652305756734338)"
            ]
          },
          "metadata": {},
          "execution_count": 7
        }
      ]
    }
  ]
}